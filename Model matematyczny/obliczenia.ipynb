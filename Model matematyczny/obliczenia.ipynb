{
 "cells": [
  {
   "cell_type": "code",
   "execution_count": 20,
   "metadata": {},
   "outputs": [],
   "source": [
    "import sympy\n",
    "from IPython.display import display, Math\n",
    "from sympy import Matrix, Function, symbols, sin, cos,  Eq, solve, diff,  init_printing, latex\n",
    "\n",
    "#phi, xa, ya, r, alpha1, alpha2, beta1, beta2, rhok1, rhok2, l1, l2 = sympy.symbols(\"\\u03c6, xa, ya, r, \\u03b11, \\u03b12, \\u03b21, \\u03b22, \\u03c1k1, \\u03c1k2, l1, l2\")\n",
    "# Aktywowanie wsparcia dla LaTeX\n",
    "init_printing()\n",
    "\n",
    "# Definicja zmiennej czasu\n",
    "t = symbols('t')\n",
    "\n",
    "# Definicja funkcji zależnych od czasu\n",
    "phi = Function('phi')(t)\n",
    "xA = Function('xM')(t)\n",
    "yA = Function('yM')(t)\n",
    "alpha1 = Function('alpha1')(t)\n",
    "alpha2 = Function('alpha2')(t)\n",
    "beta1 = Function('beta1')(t)\n",
    "beta2 = Function('beta2')(t)\n",
    "rhok1 = Function('rhok1')(t)\n",
    "rhok2 = Function('rhok2')(t)\n",
    "\n",
    "# Definicja stałych\n",
    "r, l1, l2 = symbols(\"r, l1, l2\")\n",
    "\n",
    "# Definicja symboli\n",
    "TOA, TOB, TAC, TAD, TAE = symbols(\"T_OA, T_AB, T_AC, T_AD, T_AE\")\n",
    "TOB, TOC, TOD, TOE = symbols(\"T_{OB} T_OC T_OD T_OE\")\n",
    "\n",
    "#parametry robota\n",
    "#Odległość od osi robota do koła\n",
    "l1=0.2  \n",
    "#odległość od osi kół skrętnych do osi kół nieskrętnych\n",
    "l2=0.3\n",
    "#promień koła robota\n",
    "r=0.05\n",
    "\n",
    "\n",
    "#kąty w radianach\n",
    "TOA = sympy.Matrix([\n",
    "    [sympy.cos(phi), -1*sympy.sin(phi), 0, xA],\n",
    "    [sympy.sin(phi), sympy.cos(phi), 0, yA],\n",
    "    [0, 0, 1, r],\n",
    "    [0, 0, 0, 1]\n",
    "])\n",
    "\n",
    "TAB = sympy.Matrix([\n",
    "    [sympy.sin(alpha1), sympy.cos(alpha1), 0, 0],\n",
    "    [0, 1, 0, l1],\n",
    "    [sympy.cos(alpha1), -1*sympy.sin(alpha1), 0, 0],\n",
    "    [0, 0, 0, 1]\n",
    "])\n",
    "TAC = sympy.Matrix([\n",
    "    [sympy.sin(alpha1), sympy.cos(alpha1), 0, 0],\n",
    "    [0, 1, 0, -l1],\n",
    "    [sympy.cos(alpha1), -1*sympy.sin(alpha1), 0, 0],\n",
    "    [0, 0, 0, 1]\n",
    "])\n",
    "TAD =sympy.Matrix([\n",
    "    [sympy.sin(alpha1), sympy.cos(alpha1), 0, -l2],\n",
    "    [0, 1, 0, l1],\n",
    "    [sympy.cos(alpha1), -1*sympy.sin(alpha1), 0, 0],\n",
    "    [0, 0, 0, 1]\n",
    "])\n",
    "\n",
    "TAE = sympy.Matrix([\n",
    "    [sympy.sin(alpha1), sympy.cos(alpha1), 0, -l2],\n",
    "    [0, 1, 0, -l1],\n",
    "    [sympy.cos(alpha1), -1*sympy.sin(alpha1), 0, 0],\n",
    "    [0, 0, 0, 1]\n",
    "])\n",
    "\n",
    "\n",
    "\n",
    "\n",
    "rhok1 = sympy.Matrix([\n",
    "    [-1*r*sympy.cos(alpha1)],\n",
    "    [r*sympy.sin(alpha1)],\n",
    "    [0],\n",
    "    [1]\n",
    "])\n",
    "\n",
    "rhok2 = sympy.Matrix([\n",
    "    [-1*r*sympy.cos(alpha2)],\n",
    "    [r*sympy.sin(alpha2)],\n",
    "    [0],\n",
    "    [1]\n",
    "])\n",
    "\n",
    "rhok3 = sympy.Matrix([\n",
    "    [-1*r*sympy.cos(alpha2)],\n",
    "    [r*sympy.sin(alpha2)],\n",
    "    [0],\n",
    "    [1]\n",
    "])\n",
    "\n",
    "rhok4 = sympy.Matrix([\n",
    "    [-1*r*sympy.cos(alpha2)],\n",
    "    [r*sympy.sin(alpha2)],\n",
    "    [0],\n",
    "    [1]\n",
    "])"
   ]
  },
  {
   "cell_type": "code",
   "execution_count": 21,
   "metadata": {},
   "outputs": [
    {
     "data": {
      "text/latex": [
       "$\\displaystyle T_{OB} =  \\left[\\begin{matrix}\\sin{\\left(\\alpha_{1}{\\left(t \\right)} \\right)} \\cos{\\left(\\phi{\\left(t \\right)} \\right)} & - \\sin{\\left(\\phi{\\left(t \\right)} \\right)} + \\cos{\\left(\\alpha_{1}{\\left(t \\right)} \\right)} \\cos{\\left(\\phi{\\left(t \\right)} \\right)} & 0 & \\operatorname{xM}{\\left(t \\right)} - 0.2 \\sin{\\left(\\phi{\\left(t \\right)} \\right)}\\\\\\sin{\\left(\\alpha_{1}{\\left(t \\right)} \\right)} \\sin{\\left(\\phi{\\left(t \\right)} \\right)} & \\sin{\\left(\\phi{\\left(t \\right)} \\right)} \\cos{\\left(\\alpha_{1}{\\left(t \\right)} \\right)} + \\cos{\\left(\\phi{\\left(t \\right)} \\right)} & 0 & \\operatorname{yM}{\\left(t \\right)} + 0.2 \\cos{\\left(\\phi{\\left(t \\right)} \\right)}\\\\\\cos{\\left(\\alpha_{1}{\\left(t \\right)} \\right)} & - \\sin{\\left(\\alpha_{1}{\\left(t \\right)} \\right)} & 0 & 0.05\\\\0 & 0 & 0 & 1\\end{matrix}\\right]$"
      ],
      "text/plain": [
       "<IPython.core.display.Math object>"
      ]
     },
     "metadata": {},
     "output_type": "display_data"
    },
    {
     "data": {
      "text/latex": [
       "$\\displaystyle T_{OC} =  \\left[\\begin{matrix}\\sin{\\left(\\alpha_{1}{\\left(t \\right)} \\right)} \\cos{\\left(\\phi{\\left(t \\right)} \\right)} & - \\sin{\\left(\\phi{\\left(t \\right)} \\right)} + \\cos{\\left(\\alpha_{1}{\\left(t \\right)} \\right)} \\cos{\\left(\\phi{\\left(t \\right)} \\right)} & 0 & \\operatorname{xM}{\\left(t \\right)} + 0.2 \\sin{\\left(\\phi{\\left(t \\right)} \\right)}\\\\\\sin{\\left(\\alpha_{1}{\\left(t \\right)} \\right)} \\sin{\\left(\\phi{\\left(t \\right)} \\right)} & \\sin{\\left(\\phi{\\left(t \\right)} \\right)} \\cos{\\left(\\alpha_{1}{\\left(t \\right)} \\right)} + \\cos{\\left(\\phi{\\left(t \\right)} \\right)} & 0 & \\operatorname{yM}{\\left(t \\right)} - 0.2 \\cos{\\left(\\phi{\\left(t \\right)} \\right)}\\\\\\cos{\\left(\\alpha_{1}{\\left(t \\right)} \\right)} & - \\sin{\\left(\\alpha_{1}{\\left(t \\right)} \\right)} & 0 & 0.05\\\\0 & 0 & 0 & 1\\end{matrix}\\right]$"
      ],
      "text/plain": [
       "<IPython.core.display.Math object>"
      ]
     },
     "metadata": {},
     "output_type": "display_data"
    },
    {
     "data": {
      "text/latex": [
       "$\\displaystyle T_{OD} =  \\left[\\begin{matrix}\\sin{\\left(\\alpha_{1}{\\left(t \\right)} \\right)} \\cos{\\left(\\phi{\\left(t \\right)} \\right)} & - \\sin{\\left(\\phi{\\left(t \\right)} \\right)} + \\cos{\\left(\\alpha_{1}{\\left(t \\right)} \\right)} \\cos{\\left(\\phi{\\left(t \\right)} \\right)} & 0 & \\operatorname{xM}{\\left(t \\right)} - 0.2 \\sin{\\left(\\phi{\\left(t \\right)} \\right)} - 0.3 \\cos{\\left(\\phi{\\left(t \\right)} \\right)}\\\\\\sin{\\left(\\alpha_{1}{\\left(t \\right)} \\right)} \\sin{\\left(\\phi{\\left(t \\right)} \\right)} & \\sin{\\left(\\phi{\\left(t \\right)} \\right)} \\cos{\\left(\\alpha_{1}{\\left(t \\right)} \\right)} + \\cos{\\left(\\phi{\\left(t \\right)} \\right)} & 0 & \\operatorname{yM}{\\left(t \\right)} - 0.3 \\sin{\\left(\\phi{\\left(t \\right)} \\right)} + 0.2 \\cos{\\left(\\phi{\\left(t \\right)} \\right)}\\\\\\cos{\\left(\\alpha_{1}{\\left(t \\right)} \\right)} & - \\sin{\\left(\\alpha_{1}{\\left(t \\right)} \\right)} & 0 & 0.05\\\\0 & 0 & 0 & 1\\end{matrix}\\right]$"
      ],
      "text/plain": [
       "<IPython.core.display.Math object>"
      ]
     },
     "metadata": {},
     "output_type": "display_data"
    },
    {
     "data": {
      "text/latex": [
       "$\\displaystyle T_{OE} =  \\left[\\begin{matrix}\\sin{\\left(\\alpha_{1}{\\left(t \\right)} \\right)} \\cos{\\left(\\phi{\\left(t \\right)} \\right)} & - \\sin{\\left(\\phi{\\left(t \\right)} \\right)} + \\cos{\\left(\\alpha_{1}{\\left(t \\right)} \\right)} \\cos{\\left(\\phi{\\left(t \\right)} \\right)} & 0 & \\operatorname{xM}{\\left(t \\right)} + 0.2 \\sin{\\left(\\phi{\\left(t \\right)} \\right)} - 0.3 \\cos{\\left(\\phi{\\left(t \\right)} \\right)}\\\\\\sin{\\left(\\alpha_{1}{\\left(t \\right)} \\right)} \\sin{\\left(\\phi{\\left(t \\right)} \\right)} & \\sin{\\left(\\phi{\\left(t \\right)} \\right)} \\cos{\\left(\\alpha_{1}{\\left(t \\right)} \\right)} + \\cos{\\left(\\phi{\\left(t \\right)} \\right)} & 0 & \\operatorname{yM}{\\left(t \\right)} - 0.3 \\sin{\\left(\\phi{\\left(t \\right)} \\right)} - 0.2 \\cos{\\left(\\phi{\\left(t \\right)} \\right)}\\\\\\cos{\\left(\\alpha_{1}{\\left(t \\right)} \\right)} & - \\sin{\\left(\\alpha_{1}{\\left(t \\right)} \\right)} & 0 & 0.05\\\\0 & 0 & 0 & 1\\end{matrix}\\right]$"
      ],
      "text/plain": [
       "<IPython.core.display.Math object>"
      ]
     },
     "metadata": {},
     "output_type": "display_data"
    }
   ],
   "source": [
    "#Obliczenie macierzy transformacji pomiędzy układem odniesienia związanym z układem bazowym a układami odniesienia w środku kół robota\n",
    "TOB=TOA*TAB\n",
    "TOC=TOA*TAC\n",
    "TOD=TOA*TAD\n",
    "TOE=TOA*TAE\n",
    "\n",
    "display(Math(latex(symbols(\"T_OB\")) +\" =  \" + latex(TOB)))\n",
    "display(Math(latex(symbols(\"T_OC\")) +\" =  \" + latex(TOC)))\n",
    "display(Math(latex(symbols(\"T_OD\")) +\" =  \" + latex(TOD)))\n",
    "display(Math(latex(symbols(\"T_OE\")) +\" =  \" + latex(TOE)))"
   ]
  },
  {
   "cell_type": "code",
   "execution_count": 22,
   "metadata": {},
   "outputs": [
    {
     "data": {
      "text/latex": [
       "$\\displaystyle \\dot{T}_{OB} =  \\left[\\begin{matrix}- \\sin{\\left(\\alpha_{1}{\\left(t \\right)} \\right)} \\sin{\\left(\\phi{\\left(t \\right)} \\right)} \\frac{d}{d t} \\phi{\\left(t \\right)} + \\cos{\\left(\\alpha_{1}{\\left(t \\right)} \\right)} \\cos{\\left(\\phi{\\left(t \\right)} \\right)} \\frac{d}{d t} \\alpha_{1}{\\left(t \\right)} & - \\sin{\\left(\\alpha_{1}{\\left(t \\right)} \\right)} \\cos{\\left(\\phi{\\left(t \\right)} \\right)} \\frac{d}{d t} \\alpha_{1}{\\left(t \\right)} - \\sin{\\left(\\phi{\\left(t \\right)} \\right)} \\cos{\\left(\\alpha_{1}{\\left(t \\right)} \\right)} \\frac{d}{d t} \\phi{\\left(t \\right)} - \\cos{\\left(\\phi{\\left(t \\right)} \\right)} \\frac{d}{d t} \\phi{\\left(t \\right)} & 0 & - 0.2 \\cos{\\left(\\phi{\\left(t \\right)} \\right)} \\frac{d}{d t} \\phi{\\left(t \\right)} + \\frac{d}{d t} \\operatorname{xM}{\\left(t \\right)}\\\\\\sin{\\left(\\alpha_{1}{\\left(t \\right)} \\right)} \\cos{\\left(\\phi{\\left(t \\right)} \\right)} \\frac{d}{d t} \\phi{\\left(t \\right)} + \\sin{\\left(\\phi{\\left(t \\right)} \\right)} \\cos{\\left(\\alpha_{1}{\\left(t \\right)} \\right)} \\frac{d}{d t} \\alpha_{1}{\\left(t \\right)} & - \\sin{\\left(\\alpha_{1}{\\left(t \\right)} \\right)} \\sin{\\left(\\phi{\\left(t \\right)} \\right)} \\frac{d}{d t} \\alpha_{1}{\\left(t \\right)} - \\sin{\\left(\\phi{\\left(t \\right)} \\right)} \\frac{d}{d t} \\phi{\\left(t \\right)} + \\cos{\\left(\\alpha_{1}{\\left(t \\right)} \\right)} \\cos{\\left(\\phi{\\left(t \\right)} \\right)} \\frac{d}{d t} \\phi{\\left(t \\right)} & 0 & - 0.2 \\sin{\\left(\\phi{\\left(t \\right)} \\right)} \\frac{d}{d t} \\phi{\\left(t \\right)} + \\frac{d}{d t} \\operatorname{yM}{\\left(t \\right)}\\\\- \\sin{\\left(\\alpha_{1}{\\left(t \\right)} \\right)} \\frac{d}{d t} \\alpha_{1}{\\left(t \\right)} & - \\cos{\\left(\\alpha_{1}{\\left(t \\right)} \\right)} \\frac{d}{d t} \\alpha_{1}{\\left(t \\right)} & 0 & 0\\\\0 & 0 & 0 & 0\\end{matrix}\\right]$"
      ],
      "text/plain": [
       "<IPython.core.display.Math object>"
      ]
     },
     "metadata": {},
     "output_type": "display_data"
    },
    {
     "data": {
      "text/latex": [
       "$\\displaystyle \\dot{T}_{OC} =  \\left[\\begin{matrix}- \\sin{\\left(\\alpha_{1}{\\left(t \\right)} \\right)} \\sin{\\left(\\phi{\\left(t \\right)} \\right)} \\frac{d}{d t} \\phi{\\left(t \\right)} + \\cos{\\left(\\alpha_{1}{\\left(t \\right)} \\right)} \\cos{\\left(\\phi{\\left(t \\right)} \\right)} \\frac{d}{d t} \\alpha_{1}{\\left(t \\right)} & - \\sin{\\left(\\alpha_{1}{\\left(t \\right)} \\right)} \\cos{\\left(\\phi{\\left(t \\right)} \\right)} \\frac{d}{d t} \\alpha_{1}{\\left(t \\right)} - \\sin{\\left(\\phi{\\left(t \\right)} \\right)} \\cos{\\left(\\alpha_{1}{\\left(t \\right)} \\right)} \\frac{d}{d t} \\phi{\\left(t \\right)} - \\cos{\\left(\\phi{\\left(t \\right)} \\right)} \\frac{d}{d t} \\phi{\\left(t \\right)} & 0 & 0.2 \\cos{\\left(\\phi{\\left(t \\right)} \\right)} \\frac{d}{d t} \\phi{\\left(t \\right)} + \\frac{d}{d t} \\operatorname{xM}{\\left(t \\right)}\\\\\\sin{\\left(\\alpha_{1}{\\left(t \\right)} \\right)} \\cos{\\left(\\phi{\\left(t \\right)} \\right)} \\frac{d}{d t} \\phi{\\left(t \\right)} + \\sin{\\left(\\phi{\\left(t \\right)} \\right)} \\cos{\\left(\\alpha_{1}{\\left(t \\right)} \\right)} \\frac{d}{d t} \\alpha_{1}{\\left(t \\right)} & - \\sin{\\left(\\alpha_{1}{\\left(t \\right)} \\right)} \\sin{\\left(\\phi{\\left(t \\right)} \\right)} \\frac{d}{d t} \\alpha_{1}{\\left(t \\right)} - \\sin{\\left(\\phi{\\left(t \\right)} \\right)} \\frac{d}{d t} \\phi{\\left(t \\right)} + \\cos{\\left(\\alpha_{1}{\\left(t \\right)} \\right)} \\cos{\\left(\\phi{\\left(t \\right)} \\right)} \\frac{d}{d t} \\phi{\\left(t \\right)} & 0 & 0.2 \\sin{\\left(\\phi{\\left(t \\right)} \\right)} \\frac{d}{d t} \\phi{\\left(t \\right)} + \\frac{d}{d t} \\operatorname{yM}{\\left(t \\right)}\\\\- \\sin{\\left(\\alpha_{1}{\\left(t \\right)} \\right)} \\frac{d}{d t} \\alpha_{1}{\\left(t \\right)} & - \\cos{\\left(\\alpha_{1}{\\left(t \\right)} \\right)} \\frac{d}{d t} \\alpha_{1}{\\left(t \\right)} & 0 & 0\\\\0 & 0 & 0 & 0\\end{matrix}\\right]$"
      ],
      "text/plain": [
       "<IPython.core.display.Math object>"
      ]
     },
     "metadata": {},
     "output_type": "display_data"
    },
    {
     "data": {
      "text/latex": [
       "$\\displaystyle \\dot{T}_{OD} =  \\left[\\begin{matrix}- \\sin{\\left(\\alpha_{1}{\\left(t \\right)} \\right)} \\sin{\\left(\\phi{\\left(t \\right)} \\right)} \\frac{d}{d t} \\phi{\\left(t \\right)} + \\cos{\\left(\\alpha_{1}{\\left(t \\right)} \\right)} \\cos{\\left(\\phi{\\left(t \\right)} \\right)} \\frac{d}{d t} \\alpha_{1}{\\left(t \\right)} & - \\sin{\\left(\\alpha_{1}{\\left(t \\right)} \\right)} \\cos{\\left(\\phi{\\left(t \\right)} \\right)} \\frac{d}{d t} \\alpha_{1}{\\left(t \\right)} - \\sin{\\left(\\phi{\\left(t \\right)} \\right)} \\cos{\\left(\\alpha_{1}{\\left(t \\right)} \\right)} \\frac{d}{d t} \\phi{\\left(t \\right)} - \\cos{\\left(\\phi{\\left(t \\right)} \\right)} \\frac{d}{d t} \\phi{\\left(t \\right)} & 0 & 0.3 \\sin{\\left(\\phi{\\left(t \\right)} \\right)} \\frac{d}{d t} \\phi{\\left(t \\right)} - 0.2 \\cos{\\left(\\phi{\\left(t \\right)} \\right)} \\frac{d}{d t} \\phi{\\left(t \\right)} + \\frac{d}{d t} \\operatorname{xM}{\\left(t \\right)}\\\\\\sin{\\left(\\alpha_{1}{\\left(t \\right)} \\right)} \\cos{\\left(\\phi{\\left(t \\right)} \\right)} \\frac{d}{d t} \\phi{\\left(t \\right)} + \\sin{\\left(\\phi{\\left(t \\right)} \\right)} \\cos{\\left(\\alpha_{1}{\\left(t \\right)} \\right)} \\frac{d}{d t} \\alpha_{1}{\\left(t \\right)} & - \\sin{\\left(\\alpha_{1}{\\left(t \\right)} \\right)} \\sin{\\left(\\phi{\\left(t \\right)} \\right)} \\frac{d}{d t} \\alpha_{1}{\\left(t \\right)} - \\sin{\\left(\\phi{\\left(t \\right)} \\right)} \\frac{d}{d t} \\phi{\\left(t \\right)} + \\cos{\\left(\\alpha_{1}{\\left(t \\right)} \\right)} \\cos{\\left(\\phi{\\left(t \\right)} \\right)} \\frac{d}{d t} \\phi{\\left(t \\right)} & 0 & - 0.2 \\sin{\\left(\\phi{\\left(t \\right)} \\right)} \\frac{d}{d t} \\phi{\\left(t \\right)} - 0.3 \\cos{\\left(\\phi{\\left(t \\right)} \\right)} \\frac{d}{d t} \\phi{\\left(t \\right)} + \\frac{d}{d t} \\operatorname{yM}{\\left(t \\right)}\\\\- \\sin{\\left(\\alpha_{1}{\\left(t \\right)} \\right)} \\frac{d}{d t} \\alpha_{1}{\\left(t \\right)} & - \\cos{\\left(\\alpha_{1}{\\left(t \\right)} \\right)} \\frac{d}{d t} \\alpha_{1}{\\left(t \\right)} & 0 & 0\\\\0 & 0 & 0 & 0\\end{matrix}\\right]$"
      ],
      "text/plain": [
       "<IPython.core.display.Math object>"
      ]
     },
     "metadata": {},
     "output_type": "display_data"
    },
    {
     "data": {
      "text/latex": [
       "$\\displaystyle \\dot{T}_{OE} =  \\left[\\begin{matrix}- \\sin{\\left(\\alpha_{1}{\\left(t \\right)} \\right)} \\sin{\\left(\\phi{\\left(t \\right)} \\right)} \\frac{d}{d t} \\phi{\\left(t \\right)} + \\cos{\\left(\\alpha_{1}{\\left(t \\right)} \\right)} \\cos{\\left(\\phi{\\left(t \\right)} \\right)} \\frac{d}{d t} \\alpha_{1}{\\left(t \\right)} & - \\sin{\\left(\\alpha_{1}{\\left(t \\right)} \\right)} \\cos{\\left(\\phi{\\left(t \\right)} \\right)} \\frac{d}{d t} \\alpha_{1}{\\left(t \\right)} - \\sin{\\left(\\phi{\\left(t \\right)} \\right)} \\cos{\\left(\\alpha_{1}{\\left(t \\right)} \\right)} \\frac{d}{d t} \\phi{\\left(t \\right)} - \\cos{\\left(\\phi{\\left(t \\right)} \\right)} \\frac{d}{d t} \\phi{\\left(t \\right)} & 0 & 0.3 \\sin{\\left(\\phi{\\left(t \\right)} \\right)} \\frac{d}{d t} \\phi{\\left(t \\right)} + 0.2 \\cos{\\left(\\phi{\\left(t \\right)} \\right)} \\frac{d}{d t} \\phi{\\left(t \\right)} + \\frac{d}{d t} \\operatorname{xM}{\\left(t \\right)}\\\\\\sin{\\left(\\alpha_{1}{\\left(t \\right)} \\right)} \\cos{\\left(\\phi{\\left(t \\right)} \\right)} \\frac{d}{d t} \\phi{\\left(t \\right)} + \\sin{\\left(\\phi{\\left(t \\right)} \\right)} \\cos{\\left(\\alpha_{1}{\\left(t \\right)} \\right)} \\frac{d}{d t} \\alpha_{1}{\\left(t \\right)} & - \\sin{\\left(\\alpha_{1}{\\left(t \\right)} \\right)} \\sin{\\left(\\phi{\\left(t \\right)} \\right)} \\frac{d}{d t} \\alpha_{1}{\\left(t \\right)} - \\sin{\\left(\\phi{\\left(t \\right)} \\right)} \\frac{d}{d t} \\phi{\\left(t \\right)} + \\cos{\\left(\\alpha_{1}{\\left(t \\right)} \\right)} \\cos{\\left(\\phi{\\left(t \\right)} \\right)} \\frac{d}{d t} \\phi{\\left(t \\right)} & 0 & 0.2 \\sin{\\left(\\phi{\\left(t \\right)} \\right)} \\frac{d}{d t} \\phi{\\left(t \\right)} - 0.3 \\cos{\\left(\\phi{\\left(t \\right)} \\right)} \\frac{d}{d t} \\phi{\\left(t \\right)} + \\frac{d}{d t} \\operatorname{yM}{\\left(t \\right)}\\\\- \\sin{\\left(\\alpha_{1}{\\left(t \\right)} \\right)} \\frac{d}{d t} \\alpha_{1}{\\left(t \\right)} & - \\cos{\\left(\\alpha_{1}{\\left(t \\right)} \\right)} \\frac{d}{d t} \\alpha_{1}{\\left(t \\right)} & 0 & 0\\\\0 & 0 & 0 & 0\\end{matrix}\\right]$"
      ],
      "text/plain": [
       "<IPython.core.display.Math object>"
      ]
     },
     "metadata": {},
     "output_type": "display_data"
    }
   ],
   "source": [
    "#Obliczenie pochodnych macierzy transformacji\n",
    "TOBk=diff(TOB,t)\n",
    "TOCk=diff(TOC,t)\n",
    "TODk=diff(TOD,t)\n",
    "TOEk=diff(TOE,t)\n",
    "display(Math(latex(symbols(r\"\\dot{T}_{OB}\")) +\" =  \" + latex(TOBk)))\n",
    "display(Math(latex(symbols(r\"\\dot{T}_{OC}\")) +\" =  \" + latex(TOCk)))\n",
    "display(Math(latex(symbols(r\"\\dot{T}_{OD}\")) +\" =  \" + latex(TODk)))\n",
    "display(Math(latex(symbols(r\"\\dot{T}_{OE}\")) +\" =  \" + latex(TOEk)))"
   ]
  },
  {
   "cell_type": "code",
   "execution_count": 25,
   "metadata": {},
   "outputs": [
    {
     "data": {
      "text/latex": [
       "$\\displaystyle v_{K1} =  \\left[\\begin{matrix}- 0.05 \\left(- \\sin{\\left(\\alpha_{1}{\\left(t \\right)} \\right)} \\sin{\\left(\\phi{\\left(t \\right)} \\right)} \\frac{d}{d t} \\phi{\\left(t \\right)} + \\cos{\\left(\\alpha_{1}{\\left(t \\right)} \\right)} \\cos{\\left(\\phi{\\left(t \\right)} \\right)} \\frac{d}{d t} \\alpha_{1}{\\left(t \\right)}\\right) \\cos{\\left(\\alpha_{1}{\\left(t \\right)} \\right)} + 0.05 \\left(- \\sin{\\left(\\alpha_{1}{\\left(t \\right)} \\right)} \\cos{\\left(\\phi{\\left(t \\right)} \\right)} \\frac{d}{d t} \\alpha_{1}{\\left(t \\right)} - \\sin{\\left(\\phi{\\left(t \\right)} \\right)} \\cos{\\left(\\alpha_{1}{\\left(t \\right)} \\right)} \\frac{d}{d t} \\phi{\\left(t \\right)} - \\cos{\\left(\\phi{\\left(t \\right)} \\right)} \\frac{d}{d t} \\phi{\\left(t \\right)}\\right) \\sin{\\left(\\alpha_{1}{\\left(t \\right)} \\right)} - 0.2 \\cos{\\left(\\phi{\\left(t \\right)} \\right)} \\frac{d}{d t} \\phi{\\left(t \\right)} + \\frac{d}{d t} \\operatorname{xM}{\\left(t \\right)}\\\\- 0.05 \\left(\\sin{\\left(\\alpha_{1}{\\left(t \\right)} \\right)} \\cos{\\left(\\phi{\\left(t \\right)} \\right)} \\frac{d}{d t} \\phi{\\left(t \\right)} + \\sin{\\left(\\phi{\\left(t \\right)} \\right)} \\cos{\\left(\\alpha_{1}{\\left(t \\right)} \\right)} \\frac{d}{d t} \\alpha_{1}{\\left(t \\right)}\\right) \\cos{\\left(\\alpha_{1}{\\left(t \\right)} \\right)} + 0.05 \\left(- \\sin{\\left(\\alpha_{1}{\\left(t \\right)} \\right)} \\sin{\\left(\\phi{\\left(t \\right)} \\right)} \\frac{d}{d t} \\alpha_{1}{\\left(t \\right)} - \\sin{\\left(\\phi{\\left(t \\right)} \\right)} \\frac{d}{d t} \\phi{\\left(t \\right)} + \\cos{\\left(\\alpha_{1}{\\left(t \\right)} \\right)} \\cos{\\left(\\phi{\\left(t \\right)} \\right)} \\frac{d}{d t} \\phi{\\left(t \\right)}\\right) \\sin{\\left(\\alpha_{1}{\\left(t \\right)} \\right)} - 0.2 \\sin{\\left(\\phi{\\left(t \\right)} \\right)} \\frac{d}{d t} \\phi{\\left(t \\right)} + \\frac{d}{d t} \\operatorname{yM}{\\left(t \\right)}\\\\0\\\\0\\end{matrix}\\right]$"
      ],
      "text/plain": [
       "<IPython.core.display.Math object>"
      ]
     },
     "metadata": {},
     "output_type": "display_data"
    },
    {
     "data": {
      "text/latex": [
       "$\\displaystyle v_{K2} =  \\left[\\begin{matrix}- 0.05 \\left(- \\sin{\\left(\\alpha_{1}{\\left(t \\right)} \\right)} \\sin{\\left(\\phi{\\left(t \\right)} \\right)} \\frac{d}{d t} \\phi{\\left(t \\right)} + \\cos{\\left(\\alpha_{1}{\\left(t \\right)} \\right)} \\cos{\\left(\\phi{\\left(t \\right)} \\right)} \\frac{d}{d t} \\alpha_{1}{\\left(t \\right)}\\right) \\cos{\\left(\\alpha_{2}{\\left(t \\right)} \\right)} + 0.05 \\left(- \\sin{\\left(\\alpha_{1}{\\left(t \\right)} \\right)} \\cos{\\left(\\phi{\\left(t \\right)} \\right)} \\frac{d}{d t} \\alpha_{1}{\\left(t \\right)} - \\sin{\\left(\\phi{\\left(t \\right)} \\right)} \\cos{\\left(\\alpha_{1}{\\left(t \\right)} \\right)} \\frac{d}{d t} \\phi{\\left(t \\right)} - \\cos{\\left(\\phi{\\left(t \\right)} \\right)} \\frac{d}{d t} \\phi{\\left(t \\right)}\\right) \\sin{\\left(\\alpha_{2}{\\left(t \\right)} \\right)} + 0.2 \\cos{\\left(\\phi{\\left(t \\right)} \\right)} \\frac{d}{d t} \\phi{\\left(t \\right)} + \\frac{d}{d t} \\operatorname{xM}{\\left(t \\right)}\\\\- 0.05 \\left(\\sin{\\left(\\alpha_{1}{\\left(t \\right)} \\right)} \\cos{\\left(\\phi{\\left(t \\right)} \\right)} \\frac{d}{d t} \\phi{\\left(t \\right)} + \\sin{\\left(\\phi{\\left(t \\right)} \\right)} \\cos{\\left(\\alpha_{1}{\\left(t \\right)} \\right)} \\frac{d}{d t} \\alpha_{1}{\\left(t \\right)}\\right) \\cos{\\left(\\alpha_{2}{\\left(t \\right)} \\right)} + 0.05 \\left(- \\sin{\\left(\\alpha_{1}{\\left(t \\right)} \\right)} \\sin{\\left(\\phi{\\left(t \\right)} \\right)} \\frac{d}{d t} \\alpha_{1}{\\left(t \\right)} - \\sin{\\left(\\phi{\\left(t \\right)} \\right)} \\frac{d}{d t} \\phi{\\left(t \\right)} + \\cos{\\left(\\alpha_{1}{\\left(t \\right)} \\right)} \\cos{\\left(\\phi{\\left(t \\right)} \\right)} \\frac{d}{d t} \\phi{\\left(t \\right)}\\right) \\sin{\\left(\\alpha_{2}{\\left(t \\right)} \\right)} + 0.2 \\sin{\\left(\\phi{\\left(t \\right)} \\right)} \\frac{d}{d t} \\phi{\\left(t \\right)} + \\frac{d}{d t} \\operatorname{yM}{\\left(t \\right)}\\\\0.05 \\sin{\\left(\\alpha_{1}{\\left(t \\right)} \\right)} \\cos{\\left(\\alpha_{2}{\\left(t \\right)} \\right)} \\frac{d}{d t} \\alpha_{1}{\\left(t \\right)} - 0.05 \\sin{\\left(\\alpha_{2}{\\left(t \\right)} \\right)} \\cos{\\left(\\alpha_{1}{\\left(t \\right)} \\right)} \\frac{d}{d t} \\alpha_{1}{\\left(t \\right)}\\\\0\\end{matrix}\\right]$"
      ],
      "text/plain": [
       "<IPython.core.display.Math object>"
      ]
     },
     "metadata": {},
     "output_type": "display_data"
    },
    {
     "data": {
      "text/latex": [
       "$\\displaystyle v_{K3} =  \\left[\\begin{matrix}- 0.05 \\left(- \\sin{\\left(\\alpha_{1}{\\left(t \\right)} \\right)} \\sin{\\left(\\phi{\\left(t \\right)} \\right)} \\frac{d}{d t} \\phi{\\left(t \\right)} + \\cos{\\left(\\alpha_{1}{\\left(t \\right)} \\right)} \\cos{\\left(\\phi{\\left(t \\right)} \\right)} \\frac{d}{d t} \\alpha_{1}{\\left(t \\right)}\\right) \\cos{\\left(\\alpha_{2}{\\left(t \\right)} \\right)} + 0.05 \\left(- \\sin{\\left(\\alpha_{1}{\\left(t \\right)} \\right)} \\cos{\\left(\\phi{\\left(t \\right)} \\right)} \\frac{d}{d t} \\alpha_{1}{\\left(t \\right)} - \\sin{\\left(\\phi{\\left(t \\right)} \\right)} \\cos{\\left(\\alpha_{1}{\\left(t \\right)} \\right)} \\frac{d}{d t} \\phi{\\left(t \\right)} - \\cos{\\left(\\phi{\\left(t \\right)} \\right)} \\frac{d}{d t} \\phi{\\left(t \\right)}\\right) \\sin{\\left(\\alpha_{2}{\\left(t \\right)} \\right)} + 0.3 \\sin{\\left(\\phi{\\left(t \\right)} \\right)} \\frac{d}{d t} \\phi{\\left(t \\right)} - 0.2 \\cos{\\left(\\phi{\\left(t \\right)} \\right)} \\frac{d}{d t} \\phi{\\left(t \\right)} + \\frac{d}{d t} \\operatorname{xM}{\\left(t \\right)}\\\\- 0.05 \\left(\\sin{\\left(\\alpha_{1}{\\left(t \\right)} \\right)} \\cos{\\left(\\phi{\\left(t \\right)} \\right)} \\frac{d}{d t} \\phi{\\left(t \\right)} + \\sin{\\left(\\phi{\\left(t \\right)} \\right)} \\cos{\\left(\\alpha_{1}{\\left(t \\right)} \\right)} \\frac{d}{d t} \\alpha_{1}{\\left(t \\right)}\\right) \\cos{\\left(\\alpha_{2}{\\left(t \\right)} \\right)} + 0.05 \\left(- \\sin{\\left(\\alpha_{1}{\\left(t \\right)} \\right)} \\sin{\\left(\\phi{\\left(t \\right)} \\right)} \\frac{d}{d t} \\alpha_{1}{\\left(t \\right)} - \\sin{\\left(\\phi{\\left(t \\right)} \\right)} \\frac{d}{d t} \\phi{\\left(t \\right)} + \\cos{\\left(\\alpha_{1}{\\left(t \\right)} \\right)} \\cos{\\left(\\phi{\\left(t \\right)} \\right)} \\frac{d}{d t} \\phi{\\left(t \\right)}\\right) \\sin{\\left(\\alpha_{2}{\\left(t \\right)} \\right)} - 0.2 \\sin{\\left(\\phi{\\left(t \\right)} \\right)} \\frac{d}{d t} \\phi{\\left(t \\right)} - 0.3 \\cos{\\left(\\phi{\\left(t \\right)} \\right)} \\frac{d}{d t} \\phi{\\left(t \\right)} + \\frac{d}{d t} \\operatorname{yM}{\\left(t \\right)}\\\\0.05 \\sin{\\left(\\alpha_{1}{\\left(t \\right)} \\right)} \\cos{\\left(\\alpha_{2}{\\left(t \\right)} \\right)} \\frac{d}{d t} \\alpha_{1}{\\left(t \\right)} - 0.05 \\sin{\\left(\\alpha_{2}{\\left(t \\right)} \\right)} \\cos{\\left(\\alpha_{1}{\\left(t \\right)} \\right)} \\frac{d}{d t} \\alpha_{1}{\\left(t \\right)}\\\\0\\end{matrix}\\right]$"
      ],
      "text/plain": [
       "<IPython.core.display.Math object>"
      ]
     },
     "metadata": {},
     "output_type": "display_data"
    },
    {
     "data": {
      "text/latex": [
       "$\\displaystyle v_{K4} =  \\left[\\begin{matrix}- 0.05 \\left(- \\sin{\\left(\\alpha_{1}{\\left(t \\right)} \\right)} \\sin{\\left(\\phi{\\left(t \\right)} \\right)} \\frac{d}{d t} \\phi{\\left(t \\right)} + \\cos{\\left(\\alpha_{1}{\\left(t \\right)} \\right)} \\cos{\\left(\\phi{\\left(t \\right)} \\right)} \\frac{d}{d t} \\alpha_{1}{\\left(t \\right)}\\right) \\cos{\\left(\\alpha_{2}{\\left(t \\right)} \\right)} + 0.05 \\left(- \\sin{\\left(\\alpha_{1}{\\left(t \\right)} \\right)} \\cos{\\left(\\phi{\\left(t \\right)} \\right)} \\frac{d}{d t} \\alpha_{1}{\\left(t \\right)} - \\sin{\\left(\\phi{\\left(t \\right)} \\right)} \\cos{\\left(\\alpha_{1}{\\left(t \\right)} \\right)} \\frac{d}{d t} \\phi{\\left(t \\right)} - \\cos{\\left(\\phi{\\left(t \\right)} \\right)} \\frac{d}{d t} \\phi{\\left(t \\right)}\\right) \\sin{\\left(\\alpha_{2}{\\left(t \\right)} \\right)} + 0.3 \\sin{\\left(\\phi{\\left(t \\right)} \\right)} \\frac{d}{d t} \\phi{\\left(t \\right)} + 0.2 \\cos{\\left(\\phi{\\left(t \\right)} \\right)} \\frac{d}{d t} \\phi{\\left(t \\right)} + \\frac{d}{d t} \\operatorname{xM}{\\left(t \\right)}\\\\- 0.05 \\left(\\sin{\\left(\\alpha_{1}{\\left(t \\right)} \\right)} \\cos{\\left(\\phi{\\left(t \\right)} \\right)} \\frac{d}{d t} \\phi{\\left(t \\right)} + \\sin{\\left(\\phi{\\left(t \\right)} \\right)} \\cos{\\left(\\alpha_{1}{\\left(t \\right)} \\right)} \\frac{d}{d t} \\alpha_{1}{\\left(t \\right)}\\right) \\cos{\\left(\\alpha_{2}{\\left(t \\right)} \\right)} + 0.05 \\left(- \\sin{\\left(\\alpha_{1}{\\left(t \\right)} \\right)} \\sin{\\left(\\phi{\\left(t \\right)} \\right)} \\frac{d}{d t} \\alpha_{1}{\\left(t \\right)} - \\sin{\\left(\\phi{\\left(t \\right)} \\right)} \\frac{d}{d t} \\phi{\\left(t \\right)} + \\cos{\\left(\\alpha_{1}{\\left(t \\right)} \\right)} \\cos{\\left(\\phi{\\left(t \\right)} \\right)} \\frac{d}{d t} \\phi{\\left(t \\right)}\\right) \\sin{\\left(\\alpha_{2}{\\left(t \\right)} \\right)} + 0.2 \\sin{\\left(\\phi{\\left(t \\right)} \\right)} \\frac{d}{d t} \\phi{\\left(t \\right)} - 0.3 \\cos{\\left(\\phi{\\left(t \\right)} \\right)} \\frac{d}{d t} \\phi{\\left(t \\right)} + \\frac{d}{d t} \\operatorname{yM}{\\left(t \\right)}\\\\0.05 \\sin{\\left(\\alpha_{1}{\\left(t \\right)} \\right)} \\cos{\\left(\\alpha_{2}{\\left(t \\right)} \\right)} \\frac{d}{d t} \\alpha_{1}{\\left(t \\right)} - 0.05 \\sin{\\left(\\alpha_{2}{\\left(t \\right)} \\right)} \\cos{\\left(\\alpha_{1}{\\left(t \\right)} \\right)} \\frac{d}{d t} \\alpha_{1}{\\left(t \\right)}\\\\0\\end{matrix}\\right]$"
      ],
      "text/plain": [
       "<IPython.core.display.Math object>"
      ]
     },
     "metadata": {},
     "output_type": "display_data"
    }
   ],
   "source": [
    "vK1=TOBk*rhok1\n",
    "vK2=TOCk*rhok2\n",
    "vK3=TODk*rhok3\n",
    "vK4=TOEk*rhok4\n",
    "display(Math(latex(symbols(r\"v_{K1}\")) +\" =  \" + latex(vK1)))\n",
    "display(Math(latex(symbols(r\"v_{K2}\")) +\" =  \" + latex(vK2)))\n",
    "display(Math(latex(symbols(r\"v_{K3}\")) +\" =  \" + latex(vK3)))\n",
    "display(Math(latex(symbols(r\"v_{K4}\")) +\" =  \" + latex(vK4)))"
   ]
  }
 ],
 "metadata": {
  "kernelspec": {
   "display_name": "Python 3",
   "language": "python",
   "name": "python3"
  },
  "language_info": {
   "codemirror_mode": {
    "name": "ipython",
    "version": 3
   },
   "file_extension": ".py",
   "mimetype": "text/x-python",
   "name": "python",
   "nbconvert_exporter": "python",
   "pygments_lexer": "ipython3",
   "version": "3.12.4"
  }
 },
 "nbformat": 4,
 "nbformat_minor": 2
}
