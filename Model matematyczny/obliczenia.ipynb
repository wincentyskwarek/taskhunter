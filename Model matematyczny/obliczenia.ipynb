{
 "cells": [
  {
   "cell_type": "code",
   "execution_count": 274,
   "metadata": {},
   "outputs": [],
   "source": [
    "import sympy\n",
    "from IPython.display import display, Math\n",
    "from sympy import Matrix, Function, symbols, sin, cos,  Eq, solve, diff,  init_printing, latex, simplify, collect, linear_eq_to_matrix, linsolve, trigsimp\n",
    "\n",
    "#phi, xa, ya, r, alpha1, alpha2, beta1, beta2, rhok1, rhok2, l1, l2 = sympy.symbols(\"\\u03c6, xa, ya, r, \\u03b11, \\u03b12, \\u03b21, \\u03b22, \\u03c1k1, \\u03c1k2, l1, l2\")\n",
    "# Aktywowanie wsparcia dla LaTeX\n",
    "init_printing()\n",
    "\n",
    "# Definicja zmiennej czasu\n",
    "t = symbols('t')\n",
    "\n",
    "# Definicja funkcji zależnych od czasu\n",
    "phi = Function('phi')(t)\n",
    "xA = Function('x_A')(t)\n",
    "yA = Function('y_A')(t)\n",
    "alpha1 = Function('alpha1')(t)\n",
    "alpha2 = Function('alpha2')(t)\n",
    "alpha3 = Function('alpha3')(t)\n",
    "alpha4 = Function('alpha4')(t)\n",
    "beta1 = Function('beta1')(t)\n",
    "beta2 = Function('beta2')(t)\n",
    "rhok1 = Function('rhok1')(t)\n",
    "rhok2 = Function('rhok2')(t)\n",
    "\n",
    "# Definicja stałych\n",
    "r, l1, l2 = symbols(\"r, l1, l2\")\n",
    "# Wartości stałych\n",
    "# r - promień koła robota\n",
    "# l1 - Odległość od osi robota do koła\n",
    "# l2 - odległość od osi kół skrętnych do osi kół nieskrętnych\n",
    "values={r:0.05, l1:0.2, l2:0.4}\n",
    "\n",
    "\n",
    "\n",
    "\n",
    "#kąty w radianach\n",
    "# Translacja o xA i yA, obrót wokół osi z o phi\n",
    "TOA = sympy.Matrix([\n",
    "    [sympy.cos(phi), -1*sympy.sin(phi), 0, xA],\n",
    "    [sympy.sin(phi), sympy.cos(phi), 0, yA],\n",
    "    [0, 0, 1, r],\n",
    "    [0, 0, 0, 1]\n",
    "])\n",
    "\n",
    "# Translacja o l1 na osi y\n",
    "TAB = sympy.Matrix([\n",
    "    [1, 0, 0, 0],\n",
    "    [0, 1, 0, l1],\n",
    "    [0, 0, 1, 0],\n",
    "    [0, 0, 0, 1]\n",
    "])\n",
    "\n",
    "# Obrót wokół osi y o alpha1\n",
    "RB = sympy.Matrix([\n",
    "    [sympy.cos(alpha1), 0, sympy.sin(alpha1), 0],\n",
    "    [0, 1, 0, 0],\n",
    "    [-sympy.sin(alpha1), 0, sympy.cos(alpha1), 0],\n",
    "    [0, 0, 0, 1]\n",
    "])\n",
    "\n",
    "# Translacja o -l1 na osi y\n",
    "TAC = sympy.Matrix([\n",
    "    [1, 0, 0, 0],\n",
    "    [0, 1, 0, -l1],\n",
    "    [0, 0, 1, 0],\n",
    "    [0, 0, 0, 1]\n",
    "])\n",
    "\n",
    "# Obrót wokół osi y o alpha2\n",
    "RC = sympy.Matrix([\n",
    "    [sympy.cos(alpha2), 0, sympy.sin(alpha2), 0],\n",
    "    [0, 1, 0, 0],\n",
    "    [-sympy.sin(alpha2), 0, sympy.cos(alpha2), 0],\n",
    "    [0, 0, 0, 1]\n",
    "])\n",
    "\n",
    "# Translacja o -l2 na osi x i l1 na osi y, obrót wokół osi z o beta1\n",
    "TAD =sympy.Matrix([\n",
    "    [sympy.cos(beta1), -sympy.sin(beta1), 0, -l2],\n",
    "    [sympy.sin(beta1), sympy.cos(beta1), 0, l1],\n",
    "    [0, 0, 1, 0],\n",
    "    [0, 0, 0, 1]\n",
    "])\n",
    "\n",
    "# Obrót wokół osi y o alpha3\n",
    "RD =sympy.Matrix([\n",
    "    [sympy.cos(alpha3), 0, sympy.sin(alpha3), 0],\n",
    "    [0, 1, 0, 0],\n",
    "    [-sympy.sin(alpha3), 0, sympy.cos(alpha3), 0],\n",
    "    [0, 0, 0, 1]\n",
    "]) \n",
    "\n",
    "# Translacja o -l2 na osi x i -l1 na osi y, obrót wokół osi z o beta2\n",
    "TAE = sympy.Matrix([\n",
    "    [sympy.cos(beta2), -sympy.sin(beta2), 0, -l2],\n",
    "    [sympy.sin(beta2), sympy.cos(beta2), 0, -l1],\n",
    "    [0, 0, 1, 0],\n",
    "    [0, 0, 0, 1]\n",
    "])\n",
    "\n",
    "# Obrót wokół osi y o alpha4\n",
    "RE = sympy.Matrix([\n",
    "    [sympy.cos(alpha4), 0, sympy.sin(alpha4), 0],\n",
    "    [0, 1, 0, 0],\n",
    "    [-sympy.sin(alpha4), 0, sympy.cos(alpha4), 0],\n",
    "    [0, 0, 0, 1]\n",
    "])\n",
    "\n",
    "\n",
    "rhok1 = sympy.Matrix([\n",
    "    [r*sympy.sin(alpha1)],\n",
    "    [0],\n",
    "    [-r*sympy.cos(alpha1)],\n",
    "    [1]])\n",
    "\n",
    "\n",
    "rhok2 = sympy.Matrix([\n",
    "    [r*sympy.sin(alpha2)],\n",
    "    [0],\n",
    "    [-r*sympy.cos(alpha2)],\n",
    "    [1]])\n",
    "\n",
    "\n",
    "rhok3 = sympy.Matrix([\n",
    "    [r*sympy.sin(alpha3)],\n",
    "    [0],\n",
    "    [-r*sympy.cos(alpha3)],\n",
    "    [1]])\n",
    "\n",
    "rhok4 = sympy.Matrix([\n",
    "    [r*sympy.sin(alpha4)],\n",
    "    [0],\n",
    "    [-r*sympy.cos(alpha4)],\n",
    "    [1]])\n"
   ]
  },
  {
   "cell_type": "code",
   "execution_count": 275,
   "metadata": {},
   "outputs": [
    {
     "data": {
      "text/latex": [
       "$\\displaystyle T_{OB} =  \\left[\\begin{matrix}\\cos{\\left(\\alpha_{1}{\\left(t \\right)} \\right)} \\cos{\\left(\\phi{\\left(t \\right)} \\right)} & - \\sin{\\left(\\phi{\\left(t \\right)} \\right)} & \\sin{\\left(\\alpha_{1}{\\left(t \\right)} \\right)} \\cos{\\left(\\phi{\\left(t \\right)} \\right)} & - l_{1} \\sin{\\left(\\phi{\\left(t \\right)} \\right)} + x_{A}{\\left(t \\right)}\\\\\\sin{\\left(\\phi{\\left(t \\right)} \\right)} \\cos{\\left(\\alpha_{1}{\\left(t \\right)} \\right)} & \\cos{\\left(\\phi{\\left(t \\right)} \\right)} & \\sin{\\left(\\alpha_{1}{\\left(t \\right)} \\right)} \\sin{\\left(\\phi{\\left(t \\right)} \\right)} & l_{1} \\cos{\\left(\\phi{\\left(t \\right)} \\right)} + y_{A}{\\left(t \\right)}\\\\- \\sin{\\left(\\alpha_{1}{\\left(t \\right)} \\right)} & 0 & \\cos{\\left(\\alpha_{1}{\\left(t \\right)} \\right)} & r\\\\0 & 0 & 0 & 1\\end{matrix}\\right]$"
      ],
      "text/plain": [
       "<IPython.core.display.Math object>"
      ]
     },
     "metadata": {},
     "output_type": "display_data"
    },
    {
     "data": {
      "text/latex": [
       "$\\displaystyle T_{OC} =  \\left[\\begin{matrix}\\cos{\\left(\\alpha_{2}{\\left(t \\right)} \\right)} \\cos{\\left(\\phi{\\left(t \\right)} \\right)} & - \\sin{\\left(\\phi{\\left(t \\right)} \\right)} & \\sin{\\left(\\alpha_{2}{\\left(t \\right)} \\right)} \\cos{\\left(\\phi{\\left(t \\right)} \\right)} & l_{1} \\sin{\\left(\\phi{\\left(t \\right)} \\right)} + x_{A}{\\left(t \\right)}\\\\\\sin{\\left(\\phi{\\left(t \\right)} \\right)} \\cos{\\left(\\alpha_{2}{\\left(t \\right)} \\right)} & \\cos{\\left(\\phi{\\left(t \\right)} \\right)} & \\sin{\\left(\\alpha_{2}{\\left(t \\right)} \\right)} \\sin{\\left(\\phi{\\left(t \\right)} \\right)} & - l_{1} \\cos{\\left(\\phi{\\left(t \\right)} \\right)} + y_{A}{\\left(t \\right)}\\\\- \\sin{\\left(\\alpha_{2}{\\left(t \\right)} \\right)} & 0 & \\cos{\\left(\\alpha_{2}{\\left(t \\right)} \\right)} & r\\\\0 & 0 & 0 & 1\\end{matrix}\\right]$"
      ],
      "text/plain": [
       "<IPython.core.display.Math object>"
      ]
     },
     "metadata": {},
     "output_type": "display_data"
    },
    {
     "data": {
      "text/latex": [
       "$\\displaystyle T_{OD} =  \\left[\\begin{matrix}\\left(- \\sin{\\left(\\beta_{1}{\\left(t \\right)} \\right)} \\sin{\\left(\\phi{\\left(t \\right)} \\right)} + \\cos{\\left(\\beta_{1}{\\left(t \\right)} \\right)} \\cos{\\left(\\phi{\\left(t \\right)} \\right)}\\right) \\cos{\\left(\\alpha_{3}{\\left(t \\right)} \\right)} & - \\sin{\\left(\\beta_{1}{\\left(t \\right)} \\right)} \\cos{\\left(\\phi{\\left(t \\right)} \\right)} - \\sin{\\left(\\phi{\\left(t \\right)} \\right)} \\cos{\\left(\\beta_{1}{\\left(t \\right)} \\right)} & \\left(- \\sin{\\left(\\beta_{1}{\\left(t \\right)} \\right)} \\sin{\\left(\\phi{\\left(t \\right)} \\right)} + \\cos{\\left(\\beta_{1}{\\left(t \\right)} \\right)} \\cos{\\left(\\phi{\\left(t \\right)} \\right)}\\right) \\sin{\\left(\\alpha_{3}{\\left(t \\right)} \\right)} & - l_{1} \\sin{\\left(\\phi{\\left(t \\right)} \\right)} - l_{2} \\cos{\\left(\\phi{\\left(t \\right)} \\right)} + x_{A}{\\left(t \\right)}\\\\\\left(\\sin{\\left(\\beta_{1}{\\left(t \\right)} \\right)} \\cos{\\left(\\phi{\\left(t \\right)} \\right)} + \\sin{\\left(\\phi{\\left(t \\right)} \\right)} \\cos{\\left(\\beta_{1}{\\left(t \\right)} \\right)}\\right) \\cos{\\left(\\alpha_{3}{\\left(t \\right)} \\right)} & - \\sin{\\left(\\beta_{1}{\\left(t \\right)} \\right)} \\sin{\\left(\\phi{\\left(t \\right)} \\right)} + \\cos{\\left(\\beta_{1}{\\left(t \\right)} \\right)} \\cos{\\left(\\phi{\\left(t \\right)} \\right)} & \\left(\\sin{\\left(\\beta_{1}{\\left(t \\right)} \\right)} \\cos{\\left(\\phi{\\left(t \\right)} \\right)} + \\sin{\\left(\\phi{\\left(t \\right)} \\right)} \\cos{\\left(\\beta_{1}{\\left(t \\right)} \\right)}\\right) \\sin{\\left(\\alpha_{3}{\\left(t \\right)} \\right)} & l_{1} \\cos{\\left(\\phi{\\left(t \\right)} \\right)} - l_{2} \\sin{\\left(\\phi{\\left(t \\right)} \\right)} + y_{A}{\\left(t \\right)}\\\\- \\sin{\\left(\\alpha_{3}{\\left(t \\right)} \\right)} & 0 & \\cos{\\left(\\alpha_{3}{\\left(t \\right)} \\right)} & r\\\\0 & 0 & 0 & 1\\end{matrix}\\right]$"
      ],
      "text/plain": [
       "<IPython.core.display.Math object>"
      ]
     },
     "metadata": {},
     "output_type": "display_data"
    },
    {
     "data": {
      "text/latex": [
       "$\\displaystyle T_{OE} =  \\left[\\begin{matrix}\\left(- \\sin{\\left(\\beta_{2}{\\left(t \\right)} \\right)} \\sin{\\left(\\phi{\\left(t \\right)} \\right)} + \\cos{\\left(\\beta_{2}{\\left(t \\right)} \\right)} \\cos{\\left(\\phi{\\left(t \\right)} \\right)}\\right) \\cos{\\left(\\alpha_{4}{\\left(t \\right)} \\right)} & - \\sin{\\left(\\beta_{2}{\\left(t \\right)} \\right)} \\cos{\\left(\\phi{\\left(t \\right)} \\right)} - \\sin{\\left(\\phi{\\left(t \\right)} \\right)} \\cos{\\left(\\beta_{2}{\\left(t \\right)} \\right)} & \\left(- \\sin{\\left(\\beta_{2}{\\left(t \\right)} \\right)} \\sin{\\left(\\phi{\\left(t \\right)} \\right)} + \\cos{\\left(\\beta_{2}{\\left(t \\right)} \\right)} \\cos{\\left(\\phi{\\left(t \\right)} \\right)}\\right) \\sin{\\left(\\alpha_{4}{\\left(t \\right)} \\right)} & l_{1} \\sin{\\left(\\phi{\\left(t \\right)} \\right)} - l_{2} \\cos{\\left(\\phi{\\left(t \\right)} \\right)} + x_{A}{\\left(t \\right)}\\\\\\left(\\sin{\\left(\\beta_{2}{\\left(t \\right)} \\right)} \\cos{\\left(\\phi{\\left(t \\right)} \\right)} + \\sin{\\left(\\phi{\\left(t \\right)} \\right)} \\cos{\\left(\\beta_{2}{\\left(t \\right)} \\right)}\\right) \\cos{\\left(\\alpha_{4}{\\left(t \\right)} \\right)} & - \\sin{\\left(\\beta_{2}{\\left(t \\right)} \\right)} \\sin{\\left(\\phi{\\left(t \\right)} \\right)} + \\cos{\\left(\\beta_{2}{\\left(t \\right)} \\right)} \\cos{\\left(\\phi{\\left(t \\right)} \\right)} & \\left(\\sin{\\left(\\beta_{2}{\\left(t \\right)} \\right)} \\cos{\\left(\\phi{\\left(t \\right)} \\right)} + \\sin{\\left(\\phi{\\left(t \\right)} \\right)} \\cos{\\left(\\beta_{2}{\\left(t \\right)} \\right)}\\right) \\sin{\\left(\\alpha_{4}{\\left(t \\right)} \\right)} & - l_{1} \\cos{\\left(\\phi{\\left(t \\right)} \\right)} - l_{2} \\sin{\\left(\\phi{\\left(t \\right)} \\right)} + y_{A}{\\left(t \\right)}\\\\- \\sin{\\left(\\alpha_{4}{\\left(t \\right)} \\right)} & 0 & \\cos{\\left(\\alpha_{4}{\\left(t \\right)} \\right)} & r\\\\0 & 0 & 0 & 1\\end{matrix}\\right]$"
      ],
      "text/plain": [
       "<IPython.core.display.Math object>"
      ]
     },
     "metadata": {},
     "output_type": "display_data"
    }
   ],
   "source": [
    "# Obliczenie macierzy transformacji pomiędzy układem odniesienia związanym z układem globalnym a układami odniesienia w środku kół robota\n",
    "TOB=TOA*TAB*RB\n",
    "TOC=TOA*TAC*RC\n",
    "TOD=TOA*TAD*RD\n",
    "TOE=TOA*TAE*RE\n",
    "# Wyświetlenie macierzy transformacji pomiędzy układem odniesienia związanym z układem globalnym a układami odniesienia w środku kół robota\n",
    "display(Math(latex(symbols(\"T_OB\")) +\" =  \" + latex(TOB)))\n",
    "display(Math(latex(symbols(\"T_OC\")) +\" =  \" + latex(TOC)))\n",
    "display(Math(latex(symbols(\"T_OD\")) +\" =  \" + latex(TOD)))\n",
    "display(Math(latex(symbols(\"T_OE\")) +\" =  \" + latex(TOE)))"
   ]
  },
  {
   "cell_type": "code",
   "execution_count": 276,
   "metadata": {},
   "outputs": [
    {
     "data": {
      "text/latex": [
       "$\\displaystyle \\dot{T}_{OB} =  \\left[\\begin{matrix}- \\sin{\\left(\\alpha_{1}{\\left(t \\right)} \\right)} \\cos{\\left(\\phi{\\left(t \\right)} \\right)} \\frac{d}{d t} \\alpha_{1}{\\left(t \\right)} - \\sin{\\left(\\phi{\\left(t \\right)} \\right)} \\cos{\\left(\\alpha_{1}{\\left(t \\right)} \\right)} \\frac{d}{d t} \\phi{\\left(t \\right)} & - \\cos{\\left(\\phi{\\left(t \\right)} \\right)} \\frac{d}{d t} \\phi{\\left(t \\right)} & - \\sin{\\left(\\alpha_{1}{\\left(t \\right)} \\right)} \\sin{\\left(\\phi{\\left(t \\right)} \\right)} \\frac{d}{d t} \\phi{\\left(t \\right)} + \\cos{\\left(\\alpha_{1}{\\left(t \\right)} \\right)} \\cos{\\left(\\phi{\\left(t \\right)} \\right)} \\frac{d}{d t} \\alpha_{1}{\\left(t \\right)} & - l_{1} \\cos{\\left(\\phi{\\left(t \\right)} \\right)} \\frac{d}{d t} \\phi{\\left(t \\right)} + \\frac{d}{d t} x_{A}{\\left(t \\right)}\\\\- \\sin{\\left(\\alpha_{1}{\\left(t \\right)} \\right)} \\sin{\\left(\\phi{\\left(t \\right)} \\right)} \\frac{d}{d t} \\alpha_{1}{\\left(t \\right)} + \\cos{\\left(\\alpha_{1}{\\left(t \\right)} \\right)} \\cos{\\left(\\phi{\\left(t \\right)} \\right)} \\frac{d}{d t} \\phi{\\left(t \\right)} & - \\sin{\\left(\\phi{\\left(t \\right)} \\right)} \\frac{d}{d t} \\phi{\\left(t \\right)} & \\sin{\\left(\\alpha_{1}{\\left(t \\right)} \\right)} \\cos{\\left(\\phi{\\left(t \\right)} \\right)} \\frac{d}{d t} \\phi{\\left(t \\right)} + \\sin{\\left(\\phi{\\left(t \\right)} \\right)} \\cos{\\left(\\alpha_{1}{\\left(t \\right)} \\right)} \\frac{d}{d t} \\alpha_{1}{\\left(t \\right)} & - l_{1} \\sin{\\left(\\phi{\\left(t \\right)} \\right)} \\frac{d}{d t} \\phi{\\left(t \\right)} + \\frac{d}{d t} y_{A}{\\left(t \\right)}\\\\- \\cos{\\left(\\alpha_{1}{\\left(t \\right)} \\right)} \\frac{d}{d t} \\alpha_{1}{\\left(t \\right)} & 0 & - \\sin{\\left(\\alpha_{1}{\\left(t \\right)} \\right)} \\frac{d}{d t} \\alpha_{1}{\\left(t \\right)} & 0\\\\0 & 0 & 0 & 0\\end{matrix}\\right]$"
      ],
      "text/plain": [
       "<IPython.core.display.Math object>"
      ]
     },
     "metadata": {},
     "output_type": "display_data"
    },
    {
     "data": {
      "text/latex": [
       "$\\displaystyle \\dot{T}_{OC} =  \\left[\\begin{matrix}- \\sin{\\left(\\alpha_{2}{\\left(t \\right)} \\right)} \\cos{\\left(\\phi{\\left(t \\right)} \\right)} \\frac{d}{d t} \\alpha_{2}{\\left(t \\right)} - \\sin{\\left(\\phi{\\left(t \\right)} \\right)} \\cos{\\left(\\alpha_{2}{\\left(t \\right)} \\right)} \\frac{d}{d t} \\phi{\\left(t \\right)} & - \\cos{\\left(\\phi{\\left(t \\right)} \\right)} \\frac{d}{d t} \\phi{\\left(t \\right)} & - \\sin{\\left(\\alpha_{2}{\\left(t \\right)} \\right)} \\sin{\\left(\\phi{\\left(t \\right)} \\right)} \\frac{d}{d t} \\phi{\\left(t \\right)} + \\cos{\\left(\\alpha_{2}{\\left(t \\right)} \\right)} \\cos{\\left(\\phi{\\left(t \\right)} \\right)} \\frac{d}{d t} \\alpha_{2}{\\left(t \\right)} & l_{1} \\cos{\\left(\\phi{\\left(t \\right)} \\right)} \\frac{d}{d t} \\phi{\\left(t \\right)} + \\frac{d}{d t} x_{A}{\\left(t \\right)}\\\\- \\sin{\\left(\\alpha_{2}{\\left(t \\right)} \\right)} \\sin{\\left(\\phi{\\left(t \\right)} \\right)} \\frac{d}{d t} \\alpha_{2}{\\left(t \\right)} + \\cos{\\left(\\alpha_{2}{\\left(t \\right)} \\right)} \\cos{\\left(\\phi{\\left(t \\right)} \\right)} \\frac{d}{d t} \\phi{\\left(t \\right)} & - \\sin{\\left(\\phi{\\left(t \\right)} \\right)} \\frac{d}{d t} \\phi{\\left(t \\right)} & \\sin{\\left(\\alpha_{2}{\\left(t \\right)} \\right)} \\cos{\\left(\\phi{\\left(t \\right)} \\right)} \\frac{d}{d t} \\phi{\\left(t \\right)} + \\sin{\\left(\\phi{\\left(t \\right)} \\right)} \\cos{\\left(\\alpha_{2}{\\left(t \\right)} \\right)} \\frac{d}{d t} \\alpha_{2}{\\left(t \\right)} & l_{1} \\sin{\\left(\\phi{\\left(t \\right)} \\right)} \\frac{d}{d t} \\phi{\\left(t \\right)} + \\frac{d}{d t} y_{A}{\\left(t \\right)}\\\\- \\cos{\\left(\\alpha_{2}{\\left(t \\right)} \\right)} \\frac{d}{d t} \\alpha_{2}{\\left(t \\right)} & 0 & - \\sin{\\left(\\alpha_{2}{\\left(t \\right)} \\right)} \\frac{d}{d t} \\alpha_{2}{\\left(t \\right)} & 0\\\\0 & 0 & 0 & 0\\end{matrix}\\right]$"
      ],
      "text/plain": [
       "<IPython.core.display.Math object>"
      ]
     },
     "metadata": {},
     "output_type": "display_data"
    },
    {
     "data": {
      "text/latex": [
       "$\\displaystyle \\dot{T}_{OD} =  \\left[\\begin{matrix}\\left(- \\frac{d}{d t} \\beta_{1}{\\left(t \\right)} - \\frac{d}{d t} \\phi{\\left(t \\right)}\\right) \\sin{\\left(\\beta_{1}{\\left(t \\right)} + \\phi{\\left(t \\right)} \\right)} \\cos{\\left(\\alpha_{3}{\\left(t \\right)} \\right)} - \\sin{\\left(\\alpha_{3}{\\left(t \\right)} \\right)} \\cos{\\left(\\beta_{1}{\\left(t \\right)} + \\phi{\\left(t \\right)} \\right)} \\frac{d}{d t} \\alpha_{3}{\\left(t \\right)} & - \\left(\\frac{d}{d t} \\beta_{1}{\\left(t \\right)} + \\frac{d}{d t} \\phi{\\left(t \\right)}\\right) \\cos{\\left(\\beta_{1}{\\left(t \\right)} + \\phi{\\left(t \\right)} \\right)} & \\left(- \\frac{d}{d t} \\beta_{1}{\\left(t \\right)} - \\frac{d}{d t} \\phi{\\left(t \\right)}\\right) \\sin{\\left(\\beta_{1}{\\left(t \\right)} + \\phi{\\left(t \\right)} \\right)} \\sin{\\left(\\alpha_{3}{\\left(t \\right)} \\right)} + \\cos{\\left(\\beta_{1}{\\left(t \\right)} + \\phi{\\left(t \\right)} \\right)} \\cos{\\left(\\alpha_{3}{\\left(t \\right)} \\right)} \\frac{d}{d t} \\alpha_{3}{\\left(t \\right)} & - l_{1} \\cos{\\left(\\phi{\\left(t \\right)} \\right)} \\frac{d}{d t} \\phi{\\left(t \\right)} + l_{2} \\sin{\\left(\\phi{\\left(t \\right)} \\right)} \\frac{d}{d t} \\phi{\\left(t \\right)} + \\frac{d}{d t} x_{A}{\\left(t \\right)}\\\\\\left(\\frac{d}{d t} \\beta_{1}{\\left(t \\right)} + \\frac{d}{d t} \\phi{\\left(t \\right)}\\right) \\cos{\\left(\\beta_{1}{\\left(t \\right)} + \\phi{\\left(t \\right)} \\right)} \\cos{\\left(\\alpha_{3}{\\left(t \\right)} \\right)} - \\sin{\\left(\\beta_{1}{\\left(t \\right)} + \\phi{\\left(t \\right)} \\right)} \\sin{\\left(\\alpha_{3}{\\left(t \\right)} \\right)} \\frac{d}{d t} \\alpha_{3}{\\left(t \\right)} & - \\left(\\frac{d}{d t} \\beta_{1}{\\left(t \\right)} + \\frac{d}{d t} \\phi{\\left(t \\right)}\\right) \\sin{\\left(\\beta_{1}{\\left(t \\right)} + \\phi{\\left(t \\right)} \\right)} & \\left(\\frac{d}{d t} \\beta_{1}{\\left(t \\right)} + \\frac{d}{d t} \\phi{\\left(t \\right)}\\right) \\sin{\\left(\\alpha_{3}{\\left(t \\right)} \\right)} \\cos{\\left(\\beta_{1}{\\left(t \\right)} + \\phi{\\left(t \\right)} \\right)} + \\sin{\\left(\\beta_{1}{\\left(t \\right)} + \\phi{\\left(t \\right)} \\right)} \\cos{\\left(\\alpha_{3}{\\left(t \\right)} \\right)} \\frac{d}{d t} \\alpha_{3}{\\left(t \\right)} & - l_{1} \\sin{\\left(\\phi{\\left(t \\right)} \\right)} \\frac{d}{d t} \\phi{\\left(t \\right)} - l_{2} \\cos{\\left(\\phi{\\left(t \\right)} \\right)} \\frac{d}{d t} \\phi{\\left(t \\right)} + \\frac{d}{d t} y_{A}{\\left(t \\right)}\\\\- \\cos{\\left(\\alpha_{3}{\\left(t \\right)} \\right)} \\frac{d}{d t} \\alpha_{3}{\\left(t \\right)} & 0 & - \\sin{\\left(\\alpha_{3}{\\left(t \\right)} \\right)} \\frac{d}{d t} \\alpha_{3}{\\left(t \\right)} & 0\\\\0 & 0 & 0 & 0\\end{matrix}\\right]$"
      ],
      "text/plain": [
       "<IPython.core.display.Math object>"
      ]
     },
     "metadata": {},
     "output_type": "display_data"
    },
    {
     "data": {
      "text/latex": [
       "$\\displaystyle \\dot{T}_{OE} =  \\left[\\begin{matrix}\\left(- \\frac{d}{d t} \\beta_{2}{\\left(t \\right)} - \\frac{d}{d t} \\phi{\\left(t \\right)}\\right) \\sin{\\left(\\beta_{2}{\\left(t \\right)} + \\phi{\\left(t \\right)} \\right)} \\cos{\\left(\\alpha_{4}{\\left(t \\right)} \\right)} - \\sin{\\left(\\alpha_{4}{\\left(t \\right)} \\right)} \\cos{\\left(\\beta_{2}{\\left(t \\right)} + \\phi{\\left(t \\right)} \\right)} \\frac{d}{d t} \\alpha_{4}{\\left(t \\right)} & - \\left(\\frac{d}{d t} \\beta_{2}{\\left(t \\right)} + \\frac{d}{d t} \\phi{\\left(t \\right)}\\right) \\cos{\\left(\\beta_{2}{\\left(t \\right)} + \\phi{\\left(t \\right)} \\right)} & \\left(- \\frac{d}{d t} \\beta_{2}{\\left(t \\right)} - \\frac{d}{d t} \\phi{\\left(t \\right)}\\right) \\sin{\\left(\\beta_{2}{\\left(t \\right)} + \\phi{\\left(t \\right)} \\right)} \\sin{\\left(\\alpha_{4}{\\left(t \\right)} \\right)} + \\cos{\\left(\\beta_{2}{\\left(t \\right)} + \\phi{\\left(t \\right)} \\right)} \\cos{\\left(\\alpha_{4}{\\left(t \\right)} \\right)} \\frac{d}{d t} \\alpha_{4}{\\left(t \\right)} & l_{1} \\cos{\\left(\\phi{\\left(t \\right)} \\right)} \\frac{d}{d t} \\phi{\\left(t \\right)} + l_{2} \\sin{\\left(\\phi{\\left(t \\right)} \\right)} \\frac{d}{d t} \\phi{\\left(t \\right)} + \\frac{d}{d t} x_{A}{\\left(t \\right)}\\\\\\left(\\frac{d}{d t} \\beta_{2}{\\left(t \\right)} + \\frac{d}{d t} \\phi{\\left(t \\right)}\\right) \\cos{\\left(\\beta_{2}{\\left(t \\right)} + \\phi{\\left(t \\right)} \\right)} \\cos{\\left(\\alpha_{4}{\\left(t \\right)} \\right)} - \\sin{\\left(\\beta_{2}{\\left(t \\right)} + \\phi{\\left(t \\right)} \\right)} \\sin{\\left(\\alpha_{4}{\\left(t \\right)} \\right)} \\frac{d}{d t} \\alpha_{4}{\\left(t \\right)} & - \\left(\\frac{d}{d t} \\beta_{2}{\\left(t \\right)} + \\frac{d}{d t} \\phi{\\left(t \\right)}\\right) \\sin{\\left(\\beta_{2}{\\left(t \\right)} + \\phi{\\left(t \\right)} \\right)} & \\left(\\frac{d}{d t} \\beta_{2}{\\left(t \\right)} + \\frac{d}{d t} \\phi{\\left(t \\right)}\\right) \\sin{\\left(\\alpha_{4}{\\left(t \\right)} \\right)} \\cos{\\left(\\beta_{2}{\\left(t \\right)} + \\phi{\\left(t \\right)} \\right)} + \\sin{\\left(\\beta_{2}{\\left(t \\right)} + \\phi{\\left(t \\right)} \\right)} \\cos{\\left(\\alpha_{4}{\\left(t \\right)} \\right)} \\frac{d}{d t} \\alpha_{4}{\\left(t \\right)} & l_{1} \\sin{\\left(\\phi{\\left(t \\right)} \\right)} \\frac{d}{d t} \\phi{\\left(t \\right)} - l_{2} \\cos{\\left(\\phi{\\left(t \\right)} \\right)} \\frac{d}{d t} \\phi{\\left(t \\right)} + \\frac{d}{d t} y_{A}{\\left(t \\right)}\\\\- \\cos{\\left(\\alpha_{4}{\\left(t \\right)} \\right)} \\frac{d}{d t} \\alpha_{4}{\\left(t \\right)} & 0 & - \\sin{\\left(\\alpha_{4}{\\left(t \\right)} \\right)} \\frac{d}{d t} \\alpha_{4}{\\left(t \\right)} & 0\\\\0 & 0 & 0 & 0\\end{matrix}\\right]$"
      ],
      "text/plain": [
       "<IPython.core.display.Math object>"
      ]
     },
     "metadata": {},
     "output_type": "display_data"
    }
   ],
   "source": [
    "#Obliczenie pochodnych macierzy transformacji\n",
    "TOBk=diff(TOB,t)\n",
    "TOCk=diff(TOC,t)\n",
    "TODk=trigsimp(diff(TOD,t))\n",
    "TOEk=trigsimp(diff(TOE,t))\n",
    "\n",
    "#Wyświetlenie pochodnych macierzy transformacji\n",
    "display(Math(latex(symbols(r\"\\dot{T}_{OB}\")) +\" =  \" + latex(TOBk)))\n",
    "display(Math(latex(symbols(r\"\\dot{T}_{OC}\")) +\" =  \" + latex(TOCk)))\n",
    "display(Math(latex(symbols(r\"\\dot{T}_{OD}\")) +\" =  \" + latex(TODk)))\n",
    "display(Math(latex(symbols(r\"\\dot{T}_{OE}\")) +\" =  \" + latex(TOEk)))"
   ]
  },
  {
   "cell_type": "code",
   "execution_count": 277,
   "metadata": {},
   "outputs": [
    {
     "data": {
      "text/latex": [
       "$\\displaystyle v_{K1} =  \\left[\\begin{matrix}- l_{1} \\cos{\\left(\\phi{\\left(t \\right)} \\right)} \\frac{d}{d t} \\phi{\\left(t \\right)} - r \\cos{\\left(\\phi{\\left(t \\right)} \\right)} \\frac{d}{d t} \\alpha_{1}{\\left(t \\right)} + \\frac{d}{d t} x_{A}{\\left(t \\right)}\\\\- l_{1} \\sin{\\left(\\phi{\\left(t \\right)} \\right)} \\frac{d}{d t} \\phi{\\left(t \\right)} - r \\sin{\\left(\\phi{\\left(t \\right)} \\right)} \\frac{d}{d t} \\alpha_{1}{\\left(t \\right)} + \\frac{d}{d t} y_{A}{\\left(t \\right)}\\\\0\\\\0\\end{matrix}\\right]$"
      ],
      "text/plain": [
       "<IPython.core.display.Math object>"
      ]
     },
     "metadata": {},
     "output_type": "display_data"
    },
    {
     "data": {
      "text/latex": [
       "$\\displaystyle v_{K2} =  \\left[\\begin{matrix}l_{1} \\cos{\\left(\\phi{\\left(t \\right)} \\right)} \\frac{d}{d t} \\phi{\\left(t \\right)} - r \\cos{\\left(\\phi{\\left(t \\right)} \\right)} \\frac{d}{d t} \\alpha_{2}{\\left(t \\right)} + \\frac{d}{d t} x_{A}{\\left(t \\right)}\\\\l_{1} \\sin{\\left(\\phi{\\left(t \\right)} \\right)} \\frac{d}{d t} \\phi{\\left(t \\right)} - r \\sin{\\left(\\phi{\\left(t \\right)} \\right)} \\frac{d}{d t} \\alpha_{2}{\\left(t \\right)} + \\frac{d}{d t} y_{A}{\\left(t \\right)}\\\\0\\\\0\\end{matrix}\\right]$"
      ],
      "text/plain": [
       "<IPython.core.display.Math object>"
      ]
     },
     "metadata": {},
     "output_type": "display_data"
    },
    {
     "data": {
      "text/latex": [
       "$\\displaystyle v_{K3} =  \\left[\\begin{matrix}- l_{1} \\cos{\\left(\\phi{\\left(t \\right)} \\right)} \\frac{d}{d t} \\phi{\\left(t \\right)} + l_{2} \\sin{\\left(\\phi{\\left(t \\right)} \\right)} \\frac{d}{d t} \\phi{\\left(t \\right)} - r \\cos{\\left(\\beta_{1}{\\left(t \\right)} + \\phi{\\left(t \\right)} \\right)} \\frac{d}{d t} \\alpha_{3}{\\left(t \\right)} + \\frac{d}{d t} x_{A}{\\left(t \\right)}\\\\- l_{1} \\sin{\\left(\\phi{\\left(t \\right)} \\right)} \\frac{d}{d t} \\phi{\\left(t \\right)} - l_{2} \\cos{\\left(\\phi{\\left(t \\right)} \\right)} \\frac{d}{d t} \\phi{\\left(t \\right)} - r \\sin{\\left(\\beta_{1}{\\left(t \\right)} + \\phi{\\left(t \\right)} \\right)} \\frac{d}{d t} \\alpha_{3}{\\left(t \\right)} + \\frac{d}{d t} y_{A}{\\left(t \\right)}\\\\0\\\\0\\end{matrix}\\right]$"
      ],
      "text/plain": [
       "<IPython.core.display.Math object>"
      ]
     },
     "metadata": {},
     "output_type": "display_data"
    },
    {
     "data": {
      "text/latex": [
       "$\\displaystyle v_{K4} =  \\left[\\begin{matrix}l_{1} \\cos{\\left(\\phi{\\left(t \\right)} \\right)} \\frac{d}{d t} \\phi{\\left(t \\right)} + l_{2} \\sin{\\left(\\phi{\\left(t \\right)} \\right)} \\frac{d}{d t} \\phi{\\left(t \\right)} - r \\cos{\\left(\\beta_{2}{\\left(t \\right)} + \\phi{\\left(t \\right)} \\right)} \\frac{d}{d t} \\alpha_{4}{\\left(t \\right)} + \\frac{d}{d t} x_{A}{\\left(t \\right)}\\\\l_{1} \\sin{\\left(\\phi{\\left(t \\right)} \\right)} \\frac{d}{d t} \\phi{\\left(t \\right)} - l_{2} \\cos{\\left(\\phi{\\left(t \\right)} \\right)} \\frac{d}{d t} \\phi{\\left(t \\right)} - r \\sin{\\left(\\beta_{2}{\\left(t \\right)} + \\phi{\\left(t \\right)} \\right)} \\frac{d}{d t} \\alpha_{4}{\\left(t \\right)} + \\frac{d}{d t} y_{A}{\\left(t \\right)}\\\\0\\\\0\\end{matrix}\\right]$"
      ],
      "text/plain": [
       "<IPython.core.display.Math object>"
      ]
     },
     "metadata": {},
     "output_type": "display_data"
    },
    {
     "data": {
      "text/latex": [
       "$\\displaystyle v_{K3x} =  - r \\cos{\\left(\\beta_{1}{\\left(t \\right)} + \\phi{\\left(t \\right)} \\right)} \\frac{d}{d t} \\alpha_{3}{\\left(t \\right)} + \\left(- l_{1} \\cos{\\left(\\phi{\\left(t \\right)} \\right)} + l_{2} \\sin{\\left(\\phi{\\left(t \\right)} \\right)}\\right) \\frac{d}{d t} \\phi{\\left(t \\right)} + \\frac{d}{d t} x_{A}{\\left(t \\right)}$"
      ],
      "text/plain": [
       "<IPython.core.display.Math object>"
      ]
     },
     "metadata": {},
     "output_type": "display_data"
    }
   ],
   "source": [
    "vK1=simplify(TOBk*rhok1)\n",
    "vK2=simplify(TOCk*rhok2)\n",
    "vK3=simplify(TODk*rhok3)\n",
    "vK4=simplify(TOEk*rhok4)\n",
    "\n",
    "\n",
    "\n",
    "display(Math(latex(symbols(r\"v_{K1}\")) +\" =  \" + latex(vK1)))\n",
    "display(Math(latex(symbols(r\"v_{K2}\")) +\" =  \" + latex(vK2)))\n",
    "display(Math(latex(symbols(r\"v_{K3}\")) +\" =  \" + latex(vK3)))\n",
    "display(Math(latex(symbols(r\"v_{K4}\")) +\" =  \" + latex(vK4)))\n",
    "vK3x=collect(vK3[0], [phik])\n",
    "display(Math(latex(symbols(r\"v_{K3x}\")) +\" =  \" + latex(vK3x)))"
   ]
  },
  {
   "cell_type": "code",
   "execution_count": 278,
   "metadata": {},
   "outputs": [
    {
     "data": {
      "text/plain": [
       "'\\nq= sympy.Matrix([\\n    [xA],\\n    [yA],\\n    [phi],\\n    [beta1],\\n    [alpha1],\\n    [alpha2],\\n    [beta2],\\n    [alpha3],\\n    [alpha4],\\n    ])\\nqk=diff(q,t)\\nqkk=diff(qk,t)\\ndisplay(Math(latex(\"Wektor współrzędnych uogólnionych\")))\\ndisplay(Math(latex(symbols(r\"q\")) +\" =  \" + latex(q)))\\ndisplay(Math(latex(\"Wektor prędkości uogólnionych\")))\\ndisplay(Math(latex(symbols(r\"q\")) +\" =  \" + latex(qk)))\\ndisplay(Math(latex(\"Wektor przyspieszeń uogólnionych\")))\\ndisplay(Math(latex(symbols(r\"q\")) +\" =  \" + latex(qkk)))\\n'"
      ]
     },
     "execution_count": 278,
     "metadata": {},
     "output_type": "execute_result"
    }
   ],
   "source": [
    "#Definicja wektora współrzędnych uogólnionych\n",
    "'''\n",
    "q= sympy.Matrix([\n",
    "    [xA],\n",
    "    [yA],\n",
    "    [phi],\n",
    "    [beta1],\n",
    "    [alpha1],\n",
    "    [alpha2],\n",
    "    [beta2],\n",
    "    [alpha3],\n",
    "    [alpha4],\n",
    "    ])\n",
    "qk=diff(q,t)\n",
    "qkk=diff(qk,t)\n",
    "display(Math(latex(\"Wektor współrzędnych uogólnionych\")))\n",
    "display(Math(latex(symbols(r\"q\")) +\" =  \" + latex(q)))\n",
    "display(Math(latex(\"Wektor prędkości uogólnionych\")))\n",
    "display(Math(latex(symbols(r\"q\")) +\" =  \" + latex(qk)))\n",
    "display(Math(latex(\"Wektor przyspieszeń uogólnionych\")))\n",
    "display(Math(latex(symbols(r\"q\")) +\" =  \" + latex(qkk)))\n",
    "'''"
   ]
  },
  {
   "cell_type": "code",
   "execution_count": 279,
   "metadata": {},
   "outputs": [],
   "source": [
    "V0= sympy.Matrix([\n",
    "    [0],\n",
    "    [0],\n",
    "    [0],\n",
    "    [0]])\n",
    "r1=Eq(vK1,V0)\n",
    "r2=Eq(vK2,V0)\n",
    "r3=Eq(vK3,V0)\n",
    "r4=Eq(vK4,V0)\n",
    "\n",
    "\n"
   ]
  },
  {
   "cell_type": "code",
   "execution_count": 280,
   "metadata": {},
   "outputs": [
    {
     "data": {
      "text/latex": [
       "$\\displaystyle \\left[ \\right]$"
      ],
      "text/plain": [
       "<IPython.core.display.Math object>"
      ]
     },
     "metadata": {},
     "output_type": "display_data"
    },
    {
     "data": {
      "text/latex": [
       "$\\displaystyle \\frac{d}{d t} x_{A}{\\left(t \\right)} = 0.025 \\left(\\frac{d}{d t} \\alpha_{1}{\\left(t \\right)} + \\frac{d}{d t} \\alpha_{2}{\\left(t \\right)}\\right) \\cos{\\left(\\phi{\\left(t \\right)} \\right)}$"
      ],
      "text/plain": [
       "<IPython.core.display.Math object>"
      ]
     },
     "metadata": {},
     "output_type": "display_data"
    },
    {
     "data": {
      "text/latex": [
       "$\\displaystyle \\frac{d}{d t} y_{A}{\\left(t \\right)} = 0.025 \\left(\\frac{d}{d t} \\alpha_{1}{\\left(t \\right)} + \\frac{d}{d t} \\alpha_{2}{\\left(t \\right)}\\right) \\sin{\\left(\\phi{\\left(t \\right)} \\right)}$"
      ],
      "text/plain": [
       "<IPython.core.display.Math object>"
      ]
     },
     "metadata": {},
     "output_type": "display_data"
    },
    {
     "data": {
      "text/latex": [
       "$\\displaystyle \\frac{d}{d t} \\phi{\\left(t \\right)} = - 0.125 \\frac{d}{d t} \\alpha_{1}{\\left(t \\right)} + 0.125 \\frac{d}{d t} \\alpha_{2}{\\left(t \\right)}$"
      ],
      "text/plain": [
       "<IPython.core.display.Math object>"
      ]
     },
     "metadata": {},
     "output_type": "display_data"
    },
    {
     "data": {
      "text/latex": [
       "$\\displaystyle \\text{True}$"
      ],
      "text/plain": [
       "<IPython.core.display.Math object>"
      ]
     },
     "metadata": {},
     "output_type": "display_data"
    },
    {
     "data": {
      "text/plain": [
       "'\\ndisplay(Math(latex(beta1k)+\" = \"+latex(s3)))\\ndisplay(Math(latex(beta2k)+\" = \"+latex(s4)))\\ndisplay(Math(latex(s2==s6)))\\nroznicabeta1=simplify(trigsimp(s3-s7))\\nroznicabeta2=simplify(trigsimp(s4-s8))\\ndisplay(Math(latex(roznicabeta1)))\\ndisplay(Math(latex(roznicabeta2)))\\n\\n'"
      ]
     },
     "execution_count": 280,
     "metadata": {},
     "output_type": "execute_result"
    }
   ],
   "source": [
    "#Rozwiązanie układu równań kinematyka prosta\n",
    "xAk = diff(xA, t)\n",
    "yAk = diff(yA, t)\n",
    "phik = diff(phi, t)\n",
    "beta1k = diff(beta1, t)\n",
    "alpha1k = diff(alpha1, t)\n",
    "alpha2k = diff(alpha2, t)\n",
    "beta2k = diff(beta2, t)\n",
    "alpha3k = diff(alpha3, t)\n",
    "alpha4k = diff(alpha4, t)\n",
    "\n",
    "#eqx=[Eq(r1.lhs[0],0), Eq(r2.lhs[0],0), Eq(r3.lhs[0],0), Eq(r4.lhs[0],0)]\n",
    "eq1=[Eq(r1.lhs[0],0), Eq(r2.lhs[0],0)]\n",
    "eq2=[Eq(r1.lhs[1],0), Eq(r2.lhs[1],0)]\n",
    "eq3=[Eq(r3.lhs[0],0),  Eq(r3.lhs[1],0)]\n",
    "#eqy=[Eq(r1.lhs[1],0), Eq(r2.lhs[1],0), Eq(r3.lhs[1],0), Eq(r4.lhs[1],0)]\n",
    "eq1 = [eq.subs(values) for eq in eq1]\n",
    "eq2 = [eq.subs(values) for eq in eq2]\n",
    "eq3 = [eq.subs(values) for eq in eq3]\n",
    "#unknowns = [xAk, yAk, phik, beta1k, alpha1k, alpha2k, beta2k, alpha3k, alpha4k]\n",
    "#unknowns = [xAk, yAk, phik, beta1k, beta2k]\n",
    "unknowns1 = [xAk, phik]\n",
    "unknowns2 = [yAk, phik]\n",
    "unknowns3 = [beta1k, phik]\n",
    "\n",
    "solution1 = solve(eq1, unknowns1)\n",
    "solution2 = solve(eq2, unknowns2)\n",
    "solution3 = solve(eq3, unknowns3)\n",
    "\n",
    "s1=simplify(collect(solution1[xAk], [alpha1k, alpha2k, alpha3k, alpha4k]))\n",
    "s2=simplify(collect(solution2[yAk], [alpha1k, alpha2k, alpha3k, alpha4k]))\n",
    "s3=simplify(collect(solution1[phik], [alpha1k, alpha2k, alpha3k, alpha4k]))\n",
    "s4=simplify(collect(solution2[phik], [alpha1k, alpha2k, alpha3k, alpha4k]))\n",
    "#s5=simplify(collect(solution3[beta1k], [alpha1k, alpha2k, alpha3k, alpha4k]))\n",
    "display(Math(latex(solution3)))\n",
    "\"\"\"\n",
    "s3=simplify(collect(solutionx[beta1k], [alpha1k, alpha2k, alpha3k, alpha4k]))\n",
    "\n",
    "s4=simplify(collect(solutionx[beta2k], [alpha1k, alpha2k, alpha3k, alpha4k]))\n",
    "solutiony = simplify(solve(eqy, unknowns))\n",
    "s5=simplify(collect(solutiony[yAk], [alpha1k, alpha2k, alpha3k, alpha4k]))\n",
    "s6=simplify(collect(solutiony[phik], [alpha1k, alpha2k, alpha3k, alpha4k]))\n",
    "s7=simplify(collect(solutiony[beta1k], [alpha1k, alpha2k, alpha3k, alpha4k]))\n",
    "s8=simplify(collect(solutiony[beta2k], [alpha1k, alpha2k, alpha3k, alpha4k]))\n",
    "\"\"\"\n",
    "display(Math(latex(xAk)+\" = \"+latex(s1)))\n",
    "display(Math(latex(yAk)+\" = \"+latex(s2)))\n",
    "display(Math(latex(phik)+\" = \"+latex(s3)))\n",
    "#display(Math(latex(beta1k)+\" = \"+latex(s5)))\n",
    "display(Math(latex(s3==s4)))\n",
    "\"\"\"\n",
    "display(Math(latex(beta1k)+\" = \"+latex(s3)))\n",
    "display(Math(latex(beta2k)+\" = \"+latex(s4)))\n",
    "display(Math(latex(s2==s6)))\n",
    "roznicabeta1=simplify(trigsimp(s3-s7))\n",
    "roznicabeta2=simplify(trigsimp(s4-s8))\n",
    "display(Math(latex(roznicabeta1)))\n",
    "display(Math(latex(roznicabeta2)))\n",
    "\n",
    "\"\"\""
   ]
  },
  {
   "cell_type": "code",
   "execution_count": 281,
   "metadata": {},
   "outputs": [
    {
     "name": "stdout",
     "output_type": "stream",
     "text": [
      "[]\n"
     ]
    },
    {
     "data": {
      "text/latex": [
       "$\\displaystyle \\text{Ranga macierzy: } 4$"
      ],
      "text/plain": [
       "<IPython.core.display.Math object>"
      ]
     },
     "metadata": {},
     "output_type": "display_data"
    },
    {
     "data": {
      "image/png": "[encoded data removed]",
      "text/latex": [
       "$\\displaystyle \\emptyset$"
      ],
      "text/plain": [
       "∅"
      ]
     },
     "metadata": {},
     "output_type": "display_data"
    }
   ],
   "source": [
    "#Rozwiązanie układu równań kinematyka odwrotna\n",
    "xAk = diff(xA, t)\n",
    "yAk = diff(yA, t)\n",
    "phik = diff(phi, t)\n",
    "beta1k = diff(beta1, t)\n",
    "alpha1k = diff(alpha1, t)\n",
    "alpha2k = diff(alpha2, t)\n",
    "beta2k = diff(beta2, t)\n",
    "alpha3k = diff(alpha3, t)\n",
    "alpha4k = diff(alpha4, t)\n",
    "\n",
    "kolo1=[Eq(r1.lhs[0],0), Eq(r1.lhs[1],0), Eq(r2.lhs[0],0), Eq(r2.lhs[1],0), Eq(r3.lhs[0],0), Eq(r3.lhs[1],0), Eq(r4.lhs[0],0), Eq(r4.lhs[1],0)]\n",
    "kolo1 = [eq.subs(values) for eq in kolo1]\n",
    "\n",
    "unknowns = [alpha1k, alpha2k, alpha3k, alpha4k]\n",
    "\n",
    "solutionKolo1 = solve(kolo1, unknowns)\n",
    "print(solutionKolo1)\n",
    "#display(Math(latex(alpha1k)+\" = \"+latex(solutionKolo1)))\n",
    "#s1=simplify(collect(solutionKolo1[alpha1k], [alpha1k, alpha2k, alpha3k, alpha4k]))\n",
    "\n",
    "\n",
    "#display(Math(latex(xAk)+\" = \"+latex(s1)))\n",
    "\n",
    "# Konwersja układu do macierzy\n",
    "A, b = linear_eq_to_matrix(kolo1, unknowns)\n",
    "\n",
    "# Sprawdzenie rangi macierzy (czy układ nie jest zależny?)\n",
    "display(Math(f\"\\\\text{{Ranga macierzy: }} {A.rank()}\"))\n",
    "\n",
    "# Rozwiązanie macierzowe\n",
    "solutionKolo1 = linsolve((A, b), *unknowns)\n",
    "display(solutionKolo1)"
   ]
  }
 ],
 "metadata": {
  "kernelspec": {
   "display_name": "Python 3",
   "language": "python",
   "name": "python3"
  },
  "language_info": {
   "codemirror_mode": {
    "name": "ipython",
    "version": 3
   },
   "file_extension": ".py",
   "mimetype": "text/x-python",
   "name": "python",
   "nbconvert_exporter": "python",
   "pygments_lexer": "ipython3",
   "version": "3.12.4"
  }
 },
 "nbformat": 4,
 "nbformat_minor": 2
}
