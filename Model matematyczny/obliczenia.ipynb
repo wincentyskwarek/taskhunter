{
 "cells": [
  {
   "cell_type": "code",
   "execution_count": 17,
   "metadata": {},
   "outputs": [
    {
     "data": {
      "text/latex": [
       "$\\displaystyle \\left[\\begin{matrix}- 0.2 \\cos{\\left(\\phi{\\left(t \\right)} \\right)} \\frac{d}{d t} \\phi{\\left(t \\right)} + \\frac{d}{d t} \\operatorname{xa}{\\left(t \\right)}\\\\- 0.2 \\sin{\\left(\\phi{\\left(t \\right)} \\right)} \\frac{d}{d t} \\phi{\\left(t \\right)} + \\frac{d}{d t} \\operatorname{ya}{\\left(t \\right)}\\\\0\\\\0\\end{matrix}\\right]$"
      ],
      "text/plain": [
       "⎡                d          d        ⎤\n",
       "⎢- 0.2⋅cos(φ(t))⋅──(φ(t)) + ──(xa(t))⎥\n",
       "⎢                dt         dt       ⎥\n",
       "⎢                                    ⎥\n",
       "⎢                d          d        ⎥\n",
       "⎢- 0.2⋅sin(φ(t))⋅──(φ(t)) + ──(ya(t))⎥\n",
       "⎢                dt         dt       ⎥\n",
       "⎢                                    ⎥\n",
       "⎢                 0                  ⎥\n",
       "⎢                                    ⎥\n",
       "⎣                 0                  ⎦"
      ]
     },
     "metadata": {},
     "output_type": "display_data"
    },
    {
     "data": {
      "text/latex": [
       "$\\displaystyle \\left[\\begin{matrix}\\operatorname{xa}{\\left(t \\right)} - 0.2 \\sin{\\left(\\phi{\\left(t \\right)} \\right)}\\\\\\operatorname{ya}{\\left(t \\right)} + 0.2 \\cos{\\left(\\phi{\\left(t \\right)} \\right)}\\\\- 0.05 \\sin^{2}{\\left(\\alpha_{1}{\\left(t \\right)} \\right)} - 0.05 \\cos^{2}{\\left(\\alpha_{1}{\\left(t \\right)} \\right)} + 0.05\\\\1\\end{matrix}\\right]$"
      ],
      "text/plain": [
       "⎡           xa(t) - 0.2⋅sin(φ(t))            ⎤\n",
       "⎢                                            ⎥\n",
       "⎢           ya(t) + 0.2⋅cos(φ(t))            ⎥\n",
       "⎢                                            ⎥\n",
       "⎢          2                  2              ⎥\n",
       "⎢- 0.05⋅sin (α₁(t)) - 0.05⋅cos (α₁(t)) + 0.05⎥\n",
       "⎢                                            ⎥\n",
       "⎣                     1                      ⎦"
      ]
     },
     "metadata": {},
     "output_type": "display_data"
    }
   ],
   "source": [
    "#import sympy\n",
    "from sympy import Matrix, Function, symbols, sin, cos,  Eq, solve, diff,  init_printing, latex\n",
    "\n",
    "#phi, xa, ya, r, alpha1, alpha2, beta1, beta2, rhok1, rhok2, l1, l2 = sympy.symbols(\"\\u03c6, xa, ya, r, \\u03b11, \\u03b12, \\u03b21, \\u03b22, \\u03c1k1, \\u03c1k2, l1, l2\")\n",
    "# Aktywowanie wsparcia dla LaTeX\n",
    "init_printing()\n",
    "\n",
    "# Definicja zmiennej czasu\n",
    "t = symbols('t')\n",
    "\n",
    "# Definicja funkcji zależnych od czasu\n",
    "phi = Function('phi')(t)\n",
    "xa = Function('xa')(t)\n",
    "ya = Function('ya')(t)\n",
    "alpha1 = Function('alpha1')(t)\n",
    "alpha2 = Function('alpha2')(t)\n",
    "beta1 = Function('beta1')(t)\n",
    "beta2 = Function('beta2')(t)\n",
    "rhok1 = Function('rhok1')(t)\n",
    "rhok2 = Function('rhok2')(t)\n",
    "\n",
    "# Definicja stałych\n",
    "r, l1, l2 = sympy.symbols(\"r, l1, l2\")\n",
    "\n",
    "#parametry robota\n",
    "#Odległość od osi robota do koła\n",
    "l1=0.2  \n",
    "#odległość od osi kół skrętnych do osi kół nieskrętnych\n",
    "l2=0.3\n",
    "#promień koła robota\n",
    "r=0.05\n",
    "\n",
    "\n",
    "#kąty w radianach\n",
    "t0a = sympy.Matrix([\n",
    "    [sympy.cos(phi), -1*sympy.sin(phi), 0, xa],\n",
    "    [sympy.sin(phi), sympy.cos(phi), 0, ya],\n",
    "    [0, 0, 1, r],\n",
    "    [0, 0, 0, 1]\n",
    "])\n",
    "\n",
    "tab = sympy.Matrix([\n",
    "    [sympy.sin(alpha1), sympy.cos(alpha1), 0, 0],\n",
    "    [0, 0, 1, l1],\n",
    "    [sympy.cos(alpha1), -1*sympy.sin(alpha1), 0, 0],\n",
    "    [0, 0, 0, 1]\n",
    "])\n",
    "\n",
    "tac = sympy.Matrix([\n",
    "    [sympy.sin(alpha2),sympy.cos(alpha2),0,0],\n",
    "    [0,0,1,-1*l1],\n",
    "    [sympy.cos(alpha2),-1*(sympy.sin(alpha2)),0,0],\n",
    "    [0,0,0,1]\n",
    "])\n",
    "\n",
    "tad = sympy.Matrix([\n",
    "    [sympy.cos(beta1),-1*(sympy.sin(beta1)),0,-1*l2],\n",
    "    [sympy.sin(beta1),sympy.cos(beta1),0,l1],\n",
    "    [0,0,1,0],\n",
    "    [0,0,0,1]\n",
    "])\n",
    "\n",
    "tae = sympy.Matrix([\n",
    "    [sympy.cos(beta2),-1*(sympy.sin(beta2)),0,-1*l2],\n",
    "    [sympy.sin(beta2),sympy.cos(beta2),0,-1*l1],\n",
    "    [0,0,1,0],\n",
    "    [0,0,0,1]\n",
    "])\n",
    "\n",
    "t0b = t0a*tab\n",
    "t0c = t0a*tac\n",
    "t0d = t0a*tad\n",
    "t0e = t0a*tae\n",
    "\n",
    "rok1 = sympy.Matrix([\n",
    "    [-1*r*sympy.cos(alpha1)],\n",
    "    [r*sympy.sin(alpha1)],\n",
    "    [0],\n",
    "    [1]\n",
    "])\n",
    "\n",
    "rhok2 = sympy.Matrix([\n",
    "    [-1*r*sympy.cos(alpha2)],\n",
    "    [r*sympy.sin(alpha2)],\n",
    "    [0],\n",
    "    [1]\n",
    "])\n",
    "t0k1=t0a*tab*rok1\n",
    "x=t0k1[0]\n",
    "vx=diff(t0k1,t)\n",
    "display(vx)\n",
    "display(t0k1)\n",
    "#jak obliczyć pochodną po czasie z macierzy, jeżeli nie zależy ona od czasu??\n",
    "#względem czego mam obliczyć pochodną z macierzy t0a, t0b, t0c, t0d, t0e??"
   ]
  },
  {
   "cell_type": "code",
   "execution_count": null,
   "metadata": {},
   "outputs": [],
   "source": []
  },
  {
   "cell_type": "code",
   "execution_count": null,
   "metadata": {},
   "outputs": [],
   "source": []
  },
  {
   "cell_type": "code",
   "execution_count": null,
   "metadata": {},
   "outputs": [],
   "source": []
  }
 ],
 "metadata": {
  "kernelspec": {
   "display_name": "Python 3",
   "language": "python",
   "name": "python3"
  },
  "language_info": {
   "codemirror_mode": {
    "name": "ipython",
    "version": 3
   },
   "file_extension": ".py",
   "mimetype": "text/x-python",
   "name": "python",
   "nbconvert_exporter": "python",
   "pygments_lexer": "ipython3",
   "version": "3.11.9"
  }
 },
 "nbformat": 4,
 "nbformat_minor": 2
}
