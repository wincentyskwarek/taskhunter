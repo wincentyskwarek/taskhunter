{
 "cells": [
  {
   "cell_type": "code",
   "execution_count": 35,
   "metadata": {},
   "outputs": [],
   "source": [
    "from sympy import Matrix, symbols, sin, cos,  Eq, solve, init_printing, latex\n",
    "\n",
    "# Aktywowanie wsparcia dla LaTeX\n",
    "init_printing()\n",
    "\n",
    "\n",
    "alpha1, alpha2  = symbols('\\u03b1\\u2081, \\u03b1\\u2082') # kąty obrotów kół robota\n",
    "beta1, beta2  = symbols('\\u03b2\\u2081, \\u03b2\\u2082')   # kąty skrętu kół robota\n",
    "l1 = symbols('l\\u2081')                                 # odległość pomiędzy kołami\n",
    "#Parametry robota\n",
    "l1=0.4 \n",
    "r=0.1       #promień koła robota\n"
   ]
  },
  {
   "cell_type": "code",
   "execution_count": 36,
   "metadata": {},
   "outputs": [
    {
     "data": {
      "text/plain": [
       "'TAB'"
      ]
     },
     "metadata": {},
     "output_type": "display_data"
    },
    {
     "data": {
      "text/latex": [
       "$\\displaystyle \\left[\\begin{matrix}0\\\\-0.4\\\\- 0.1 \\sin^{2}{\\left(α₁ \\right)} - 0.1 \\cos^{2}{\\left(α₁ \\right)}\\\\1\\end{matrix}\\right]$"
      ],
      "text/plain": [
       "⎡              0              ⎤\n",
       "⎢                             ⎥\n",
       "⎢            -0.4             ⎥\n",
       "⎢                             ⎥\n",
       "⎢         2              2    ⎥\n",
       "⎢- 0.1⋅sin (α₁) - 0.1⋅cos (α₁)⎥\n",
       "⎢                             ⎥\n",
       "⎣              1              ⎦"
      ]
     },
     "execution_count": 36,
     "metadata": {},
     "output_type": "execute_result"
    }
   ],
   "source": [
    "# Przykład obliczeń\n",
    "x = symbols('x T')\n",
    "\n",
    "TAB=Matrix([[sin(alpha1),cos(alpha1),0,0],[0, 0, 1,-l1], [cos(alpha1),-sin(alpha1),0,0],[0,0,0,1]])\n",
    "TAC=Matrix([[sin(alpha2),cos(alpha2),0,0],[0, 0, 1,l1], [cos(alpha2),-sin(alpha2),0,0],[0,0,0,1]])\n",
    "rok=Matrix([-r*cos(alpha1), r*sin(alpha1),0, 1])\n",
    "rop=Matrix([-r*cos(alpha2), r*sin(alpha2),0, 1])\n",
    "\n",
    "display(\"TAB\")\n",
    "TAB*rok1"
   ]
  }
 ],
 "metadata": {
  "kernelspec": {
   "display_name": "Python 3",
   "language": "python",
   "name": "python3"
  },
  "language_info": {
   "codemirror_mode": {
    "name": "ipython",
    "version": 3
   },
   "file_extension": ".py",
   "mimetype": "text/x-python",
   "name": "python",
   "nbconvert_exporter": "python",
   "pygments_lexer": "ipython3",
   "version": "3.12.4"
  }
 },
 "nbformat": 4,
 "nbformat_minor": 2
}
